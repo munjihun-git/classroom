{
 "cells": [
  {
   "cell_type": "markdown",
   "id": "683a6181",
   "metadata": {},
   "source": [
    "# 0. 파이썬 기초"
   ]
  },
  {
   "cell_type": "markdown",
   "id": "ead2de50",
   "metadata": {},
   "source": [
    "## 0.1 변수와 자료형"
   ]
  },
  {
   "cell_type": "code",
   "execution_count": null,
   "id": "a5f44c6a",
   "metadata": {},
   "outputs": [],
   "source": [
    "\n",
    "# 문자열\n",
    "name = \"홍길동\"\n",
    "print(f\"이름: {name}\")\n",
    "\n",
    "# 숫자 (정수와 실수)\n",
    "age = 30\n",
    "height = 175.5\n",
    "print(f\"나이: {age}, 키: {height}\")\n",
    "\n",
    "# 리스트\n",
    "fruits = [\"사과\", \"바나나\", \"포도\"]\n",
    "fruits.append(\"오렌지\")  # 리스트에 항목 추가\n",
    "print(f\"과일 목록: {fruits}\")\n",
    "\n",
    "# 튜플 (변경 불가능한 리스트)\n",
    "colors = (\"빨강\", \"녹색\", \"파랑\")\n",
    "print(f\"색상 목록: {colors}\")\n",
    "\n",
    "# 딕셔너리 (키-값 쌍으로 이루어진 구조)\n",
    "student = {\n",
    "    \"이름\": \"김영희\",\n",
    "    \"나이\": 25,\n",
    "    \"학과\": \"컴퓨터공학\"\n",
    "}\n",
    "student[\"학년\"] = 3  # 딕셔너리에 항목 추가\n",
    "print(student)\n",
    "    "
   ]
  },
  {
   "cell_type": "markdown",
   "id": "a61d9ed7",
   "metadata": {},
   "source": [
    "## 0.2 조건문"
   ]
  },
  {
   "cell_type": "code",
   "execution_count": null,
   "id": "f315098a",
   "metadata": {},
   "outputs": [],
   "source": [
    "\n",
    "score = 85\n",
    "\n",
    "if score >= 90:\n",
    "    grade = \"A\"\n",
    "elif score >= 80:\n",
    "    grade = \"B\"\n",
    "else:\n",
    "    grade = \"C\"\n",
    "\n",
    "print(f\"당신의 등급은 {grade}입니다.\")\n",
    "    "
   ]
  },
  {
   "cell_type": "markdown",
   "id": "1a29a474",
   "metadata": {},
   "source": [
    "## 0.3 반복문"
   ]
  },
  {
   "cell_type": "code",
   "execution_count": null,
   "id": "76e1e8b6",
   "metadata": {},
   "outputs": [],
   "source": [
    "\n",
    "# for문\n",
    "animals = [\"강아지\", \"고양이\", \"토끼\"]\n",
    "for animal in animals:\n",
    "    print(f\"나는 {animal}를 좋아해요!\")\n",
    "\n",
    "# while문\n",
    "count = 0\n",
    "while count < 3:\n",
    "    print(f\"현재 카운트: {count}\")\n",
    "    count += 1\n",
    "    "
   ]
  },
  {
   "cell_type": "markdown",
   "id": "e4e79a1f",
   "metadata": {},
   "source": [
    "## 0.4 함수"
   ]
  },
  {
   "cell_type": "code",
   "execution_count": null,
   "id": "b11f905a",
   "metadata": {},
   "outputs": [],
   "source": [
    "\n",
    "def calculate_area(radius):\n",
    "    # 원의 넓이를 계산하는 함수\n",
    "    area = 3.14 * radius * radius\n",
    "    return area\n",
    "\n",
    "circle_radius = 5\n",
    "circle_area = calculate_area(circle_radius)\n",
    "print(f\"반지름이 {circle_radius}인 원의 넓이는 {circle_area:.2f}입니다.\")\n",
    "    "
   ]
  }
 ],
 "metadata": {},
 "nbformat": 4,
 "nbformat_minor": 5
}
