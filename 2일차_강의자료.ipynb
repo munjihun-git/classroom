{
  "nbformat": 4,
  "nbformat_minor": 0,
  "metadata": {
    "colab": {
      "provenance": [],
      "toc_visible": true,
      "authorship_tag": "ABX9TyMMQWK7Qn3yQMxPncpc2Zku",
      "include_colab_link": true
    },
    "kernelspec": {
      "name": "python3",
      "display_name": "Python 3"
    },
    "language_info": {
      "name": "python"
    }
  },
  "cells": [
    {
      "cell_type": "markdown",
      "metadata": {
        "id": "view-in-github",
        "colab_type": "text"
      },
      "source": [
        "<a href=\"https://colab.research.google.com/github/munjihun-git/classroom/blob/main/2%EC%9D%BC%EC%B0%A8_%EA%B0%95%EC%9D%98%EC%9E%90%EB%A3%8C.ipynb\" target=\"_parent\"><img src=\"https://colab.research.google.com/assets/colab-badge.svg\" alt=\"Open In Colab\"/></a>"
      ]
    },
    {
      "cell_type": "markdown",
      "source": [
        "# **1. 변수와 자료형**"
      ],
      "metadata": {
        "id": "wDr7tEZJ_ZsT"
      }
    },
    {
      "cell_type": "markdown",
      "source": [
        "**변수의 개념과 활용**\n",
        "\n",
        "변수는 데이터를 저장하고 참조하기 위한 식별자입니다. 파이썬에서 변수를 선언할 때에는 변수 이름을 지정하고 할당 연산자인 등호(=)를 사용하여 값을 할당합니다. 변수는 해당 값을 나중에 다시 사용하기 위해 저장하는 역할을 합니다.\n",
        "\n",
        "변수는 다양한 자료형의 데이터를 저장할 수 있으며, 필요한 작업에 따라 값을 변경하거나 다른 변수의 값을 활용할 수 있습니다. 변수는 데이터 분석에서 중요한 역할을 수행하며, 계산, 조작, 분석 결과 저장 등 다양한 작업에 활용됩니다."
      ],
      "metadata": {
        "id": "5j1slVny03om"
      }
    },
    {
      "cell_type": "markdown",
      "source": [
        "파이썬에서 변수명을 할당할 때는 몇 가지 규칙을 준수해야 합니다. 이 규칙은 다음과 같습니다:\n",
        "\n",
        "1. 변수명은 문자, 숫자, 밑줄(_)로 구성될 수 있습니다. 하지만 변수명은 숫자로 시작할 수 없습니다. 숫자로 시작하는 변수명은 유효하지 않습니다.\n",
        " - 올바른 예: my_variable, var1, _count\n",
        " - 잘못된 예: 1var, my-variable\n",
        "\n",
        "2. 변수명에는 공백을 포함할 수 없습니다. 공백 대신에 밑줄을 사용할 수 있습니다.\n",
        " - 올바른 예: my_variable, user_age\n",
        " - 잘못된 예: my variable, user age\n",
        "\n",
        "3. 변수명은 대소문자를 구분합니다. 즉, \"my_variable\"과 \"My_Variable\"은 서로 다른 변수명입니다.\n",
        "\n",
        "4. 변수명으로 예약어를 사용할 수 없습니다. 파이썬에서는 이미 특정 목적으로 예약된 키워드가 있으며, 이러한 키워드를 변수명으로 사용할 수 없습니다. 몇 가지 예약어는 다음과 같습니다:\n",
        " - and, as, assert, break, class, continue, def, del, elif, else, except, False, finally, for, from, global, if, import, in, is, lambda, None, nonlocal, not, or, pass, raise, return, True, try, while, with, yield\n",
        "\n",
        "5. 변수명은 명확하고 의미있는 이름을 사용해야 합니다. 변수명은 프로그램의 가독성과 이해를 높이는 데 도움이 됩니다.\n",
        "\n",
        " - 올바른 변수명 예시:\n",
        "    - student_name\n",
        "    - total_count\n",
        "    - max_value\n",
        "\n",
        "  - 잘못된 변수명 예시:\n",
        "    - var1 (의미가 모호한 변수명)\n",
        "    - my-variable (유효하지 않은 특수문자 사용)\n",
        "    - if (예약어 사용)"
      ],
      "metadata": {
        "id": "iqUJV0NSXxQ0"
      }
    },
    {
      "cell_type": "markdown",
      "source": [
        "**기호 문법**\n",
        "\n",
        "기호는 프로그래밍에서 변수의 할당, 연산, 비교 등 다양한 작업을 수행하는 데 사용됩니다."
      ],
      "metadata": {
        "id": "nCwrOSfl6DWw"
      }
    },
    {
      "cell_type": "markdown",
      "source": [
        "=\n",
        "\n",
        "할당 연산자: 변수에 값을 할당하기 위해 사용되는 기호입니다. 오른쪽의 값을 왼쪽의 변수에 할당합니다."
      ],
      "metadata": {
        "id": "2eT2IibM6O67"
      }
    },
    {
      "cell_type": "code",
      "source": [
        "x = 10\n",
        "y = 5\n",
        "print(x, y)  # 출력: 10 5"
      ],
      "metadata": {
        "id": "W7OtilCz6Ls7"
      },
      "execution_count": null,
      "outputs": []
    },
    {
      "cell_type": "markdown",
      "source": [
        "==\n",
        "\n",
        "비교 연산자: 두 값이 동일한지 비교하기 위해 사용되는 기호입니다. ==는 값의 동등성을 확인하는 데 사용됩니다."
      ],
      "metadata": {
        "id": "VGr9EQ3d6dic"
      }
    },
    {
      "cell_type": "code",
      "source": [
        "x = 10\n",
        "y = 5\n",
        "result = x == y\n",
        "print(result)  # 출력: False"
      ],
      "metadata": {
        "id": "peE98OhM6UaT"
      },
      "execution_count": null,
      "outputs": []
    },
    {
      "cell_type": "markdown",
      "source": [
        "+, -, *, /\n",
        "\n",
        "사칙 연산자: 숫자들 간의 덧셈, 뺄셈, 곱셈, 나눗셈 연산에 사용되는 기호들입니다.\n"
      ],
      "metadata": {
        "id": "4cnBcV1j6W6i"
      }
    },
    {
      "cell_type": "code",
      "source": [
        "x = 10\n",
        "y = 5\n",
        "addition = x + y\n",
        "subtraction = x - y\n",
        "multiplication = x * y\n",
        "division = x / y\n",
        "print(addition, subtraction, multiplication, division)  # 출력: 15 5 50 2.0"
      ],
      "metadata": {
        "id": "yrb3kFm46YFc"
      },
      "execution_count": null,
      "outputs": []
    },
    {
      "cell_type": "markdown",
      "source": [
        "+=, -=, *=, /=\n",
        "\n",
        "복합 할당 연산자: 변수에 값을 할당하고 연산을 수행하는 축약형 연산자들입니다."
      ],
      "metadata": {
        "id": "7Hn2SKSJ6lvK"
      }
    },
    {
      "cell_type": "code",
      "source": [
        "x = 10\n",
        "y = 5\n",
        "x += 3  # x = x + 3\n",
        "y -= 2  # y = y - 2\n",
        "print(x, y)  # 출력: 13 3"
      ],
      "metadata": {
        "id": "psAVOdqg6nxl"
      },
      "execution_count": null,
      "outputs": []
    },
    {
      "cell_type": "markdown",
      "source": [
        "//\n",
        "\n",
        "정수 나눗셈 연산자: 나눗셈을 수행하고 소수점 이하의 값을 버리고 정수 부분만 반환하는 연산자입니다."
      ],
      "metadata": {
        "id": "sXfMmuIr7BAB"
      }
    },
    {
      "cell_type": "code",
      "source": [
        "x = 10\n",
        "y = 3\n",
        "integer_division = x // y\n",
        "print(integer_division)  # 출력: 3"
      ],
      "metadata": {
        "id": "0xlKdUYm7Bup"
      },
      "execution_count": null,
      "outputs": []
    },
    {
      "cell_type": "markdown",
      "source": [
        "%\n",
        "\n",
        "나머지 연산자: 나눗셈을 수행하고 나눗셈의 나머지 값을 반환하는 연산자입니다."
      ],
      "metadata": {
        "id": "3hDB14ZQTQk_"
      }
    },
    {
      "cell_type": "code",
      "source": [
        "x = 10\n",
        "y = 3\n",
        "remainder = x % y\n",
        "print(remainder)  # 출력: 1"
      ],
      "metadata": {
        "id": "XNsbLX7iS-9R"
      },
      "execution_count": null,
      "outputs": []
    },
    {
      "cell_type": "markdown",
      "source": [
        "**\n",
        "\n",
        "지수 연산자: 제곱 연산을 수행하는 연산자입니다.\n"
      ],
      "metadata": {
        "id": "8MveKock7gEX"
      }
    },
    {
      "cell_type": "code",
      "source": [
        "x = 2\n",
        "y = 3\n",
        "exponentiation = x ** y\n",
        "print(exponentiation)  # 출력: 8"
      ],
      "metadata": {
        "collapsed": true,
        "id": "cqjepnpC7grP"
      },
      "execution_count": null,
      "outputs": []
    },
    {
      "cell_type": "markdown",
      "source": [
        "!=\n",
        "\n",
        "부등호 연산자: 두 값이 서로 다른지 비교하기 위해 사용되는 기호입니다. !=는 값의 부등을 확인하는 데 사용됩니다.\n"
      ],
      "metadata": {
        "id": "qvf4zcWS7jHq"
      }
    },
    {
      "cell_type": "code",
      "source": [
        "x = 10\n",
        "y = 5\n",
        "result = x != y\n",
        "print(result)  # 출력: True"
      ],
      "metadata": {
        "id": "4FSJh2Ic7kVV"
      },
      "execution_count": null,
      "outputs": []
    },
    {
      "cell_type": "markdown",
      "source": [
        "<, >, <=, >=\n",
        "\n",
        "비교 연산자: 두 값의 크기를 비교하는 연산자들입니다."
      ],
      "metadata": {
        "id": "mJNjWnGl7oSn"
      }
    },
    {
      "cell_type": "code",
      "source": [
        "x = 10\n",
        "y = 5\n",
        "less_than = x < y\n",
        "greater_than = x > y\n",
        "less_than_equal = x <= y\n",
        "greater_than_equal = x >= y\n",
        "print(less_than, greater_than, less_than_equal, greater_than_equal)  # 출력: False True False True"
      ],
      "metadata": {
        "id": "wLwL5dYW7r7N"
      },
      "execution_count": null,
      "outputs": []
    },
    {
      "cell_type": "markdown",
      "source": [
        "**변수의 선언과 할당**\n",
        "\n",
        "변수를 선언하고 값을 할당하는 방법은 다음과 같습니다. x와 message라는 변수를 선언하고, 각각에 10과 \"Hello, Python!\"이라는 값을 할당했습니다. print() 함수를 통해 변수의 값을 출력할 수 있습니다."
      ],
      "metadata": {
        "id": "sdn-3ST32nDA"
      }
    },
    {
      "cell_type": "code",
      "source": [
        "# 변수 선언과 값 할당\n",
        "x = 10\n",
        "message = \"Hello, Python!\""
      ],
      "metadata": {
        "id": "1pfczkdH2wNX"
      },
      "execution_count": null,
      "outputs": []
    },
    {
      "cell_type": "code",
      "source": [
        "# 변수의 값 출력\n",
        "print(x)  # 10\n",
        "print(message)  # Hello, Python!"
      ],
      "metadata": {
        "id": "Z8AEfPib2xP5"
      },
      "execution_count": null,
      "outputs": []
    },
    {
      "cell_type": "markdown",
      "source": [
        "**변수의 활용**\n",
        "\n",
        "변수는 다른 변수의 값과 함께 사용하거나 연산을 수행하는 등 다양한 활용이 가능합니다."
      ],
      "metadata": {
        "id": "vV9j9r_J28mO"
      }
    },
    {
      "cell_type": "code",
      "source": [
        "# 변수의 활용\n",
        "x = 5\n",
        "y = 3\n",
        "z = x + y\n",
        "print(z)  # 8"
      ],
      "metadata": {
        "id": "iOhYx0_C2_YJ"
      },
      "execution_count": null,
      "outputs": []
    },
    {
      "cell_type": "code",
      "source": [
        "# 변수의 값 변경\n",
        "x = 7\n",
        "print(x)  # 7"
      ],
      "metadata": {
        "id": "GXmhsyBT3Ayo"
      },
      "execution_count": null,
      "outputs": []
    },
    {
      "cell_type": "markdown",
      "source": [
        "위의 예제에서는 x와 y라는 변수를 사용하여 덧셈 연산을 수행하고, 그 결과를 z 변수에 저장하여 출력했습니다. 또한, x 변수의 값을 변경하여 다시 출력해보았습니다."
      ],
      "metadata": {
        "id": "1kd3scAz3CoO"
      }
    },
    {
      "cell_type": "markdown",
      "source": [
        "**실습: 학생 성적 계산**\n",
        "\n",
        "학생 성적을 변수를 활용하여 계산해봅시다. 아래와 같이 각 과목의 점수를 변수로 선언하고, 총점과 평균을 계산하여 출력하는 프로그램을 작성해봅시다."
      ],
      "metadata": {
        "id": "lU0z6gLa3DUN"
      }
    },
    {
      "cell_type": "code",
      "source": [
        "# 과목별 점수 변수 선언\n",
        "kor_score = 90\n",
        "eng_score = 85\n",
        "math_score = 92"
      ],
      "metadata": {
        "id": "PiCX9UyJ3KBd"
      },
      "execution_count": null,
      "outputs": []
    },
    {
      "cell_type": "code",
      "source": [
        "# 총점 계산\n",
        "total_score = kor_score + eng_score + math_score\n",
        "\n",
        "# 평균 계산\n",
        "average_score = total_score / 3"
      ],
      "metadata": {
        "id": "31i52Akq3MQu"
      },
      "execution_count": null,
      "outputs": []
    },
    {
      "cell_type": "code",
      "source": [
        "# 결과 출력\n",
        "print(\"총점:\", total_score)\n",
        "print(\"평균:\", average_score)"
      ],
      "metadata": {
        "id": "FrHYvZLE3OAo"
      },
      "execution_count": null,
      "outputs": []
    },
    {
      "cell_type": "markdown",
      "source": [
        "위의 예제에서는 kor_score, eng_score, math_score라는 변수를 사용하여 각각 국어, 영어, 수학 과목의 점수를 저장하고, total_score 변수를 통해 총점을 계산하였습니다. 그리고 average_score 변수를 통해 평균을 계산하고, 결과를 출력하였습니다."
      ],
      "metadata": {
        "id": "S1idvLVb3Q55"
      }
    },
    {
      "cell_type": "markdown",
      "source": [
        "**자료형의 종류**"
      ],
      "metadata": {
        "id": "4CqyywHl_3nb"
      }
    },
    {
      "cell_type": "markdown",
      "source": [
        "**숫자형: 정수, 실수, 복소수, 8진수, 16진수**\n",
        "\n",
        "파이썬의 숫자형 자료형에는 정수(int), 실수(float), 복소수(complex), 8진수(octal), 16진수(hexadecimal)가 있습니다. 정수형은 소수점이 없는 숫자를, 실수형은 소수점이 있는 숫자를 나타냅니다. 복소수는 실수부와 허수부로 구성된 숫자를 나타냅니다. 8진수와 16진수는 각각 8진법과 16진법으로 표현된 숫자를 나타냅니다.\n",
        "\n",
        "각 숫자형의 예제 코드는 아래와 같습니다. 이를 통해 각 숫자형을 이해하고 활용하는 방법을 학습해봅시다."
      ],
      "metadata": {
        "id": "L6zkdHc_1ACZ"
      }
    },
    {
      "cell_type": "code",
      "source": [
        "# 정수\n",
        "a = 10\n",
        "print(type(a))"
      ],
      "metadata": {
        "id": "G60JLoRA1GnR"
      },
      "execution_count": null,
      "outputs": []
    },
    {
      "cell_type": "code",
      "source": [
        "# 실수\n",
        "b = 10.0\n",
        "print(type(b))"
      ],
      "metadata": {
        "id": "gvkuri-K1iFX"
      },
      "execution_count": null,
      "outputs": []
    },
    {
      "cell_type": "code",
      "source": [
        "# 복소수\n",
        "c = 1 + 2j\n",
        "print(type(c))"
      ],
      "metadata": {
        "id": "LK9LnWv01kda"
      },
      "execution_count": null,
      "outputs": []
    },
    {
      "cell_type": "code",
      "source": [
        "# 8진수\n",
        "d = 0o10\n",
        "print(type(d))"
      ],
      "metadata": {
        "id": "rxsUQr8T1mPF"
      },
      "execution_count": null,
      "outputs": []
    },
    {
      "cell_type": "markdown",
      "source": [
        "8진수 (Octal):\n",
        "\n",
        "*   8진수는 0부터 7까지의 숫자를 사용하여 표현됩니다.\n",
        "*   8진수에서는 한 자리에 0부터 7까지의 값을 할당할 수 있습니다.\n",
        "*   예를 들어, 8진수 10은 십진수로 8, 8진수 17은 십진수로 15를 의미합니다.\n",
        "*   8진수는 접두사로 0o를 사용하여 나타낼 수 있습니다. (예: 0o10, 0o17)\n",
        "\n"
      ],
      "metadata": {
        "id": "XAVF3FBKUmNz"
      }
    },
    {
      "cell_type": "code",
      "source": [
        "# 16진수\n",
        "e = 0x10\n",
        "print(type(e))"
      ],
      "metadata": {
        "id": "JVY2-GMk1nM-"
      },
      "execution_count": null,
      "outputs": []
    },
    {
      "cell_type": "markdown",
      "source": [
        "16진수 (Hexadecimal):\n",
        "\n",
        "*   16진수는 0부터 9까지의 숫자와 A부터 F까지의 알파벳을 사용하여 표현됩니다.\n",
        "*   16진수에서는 한 자리에 0부터 15까지의 값을 할당할 수 있으며, 10부터 15는 A부터 F로 표기됩니다.\n",
        "*   예를 들어, 16진수 1A는 십진수로 26을 의미합니다.\n",
        "*   16진수는 접두사로 0x를 사용하여 나타낼 수 있습니다. (예: 0x1A)\n",
        "\n",
        "8진수와 16진수는 주로 컴퓨터 과학과 프로그래밍에서 사용됩니다. 이들은 이진수와의 변환을 쉽게 하기 위해 사용되며, 메모리 주소 표현, 비트 연산, 색상 표현 등 다양한 분야에서 활용됩니다."
      ],
      "metadata": {
        "id": "1Tp_uoJ3Us1d"
      }
    },
    {
      "cell_type": "markdown",
      "source": [
        "**문자열: 문자열의 생성, 인덱싱, 슬라이싱, 기본 메소드**\n",
        "\n",
        "파이썬의 문자열(str)은 하나 또는 다수의 문자로 구성된 데이터형입니다. 파이썬에서는 문자열을 표현할 때 단일 따옴표('') 또는 이중 따옴표(\"\")를 사용합니다. 또한, 문자열은 변경 불가능(immutable)한 자료형으로, 한번 생성된 문자열은 그 자체를 변경할 수 없습니다.\n",
        "\n",
        "문자열의 인덱싱은 특정 위치의 문자에 접근하는 것을 의미하며, 슬라이싱은 특정 범위의 문자를 추출하는 것을 의미합니다. 파이썬의 인덱싱과 슬라이싱은 0부터 시작하며, 음수 인덱스를 통해 뒤에서부터 접근할 수 있습니다.\n",
        "\n",
        "문자열의 기본 메소드로는 len(길이), upper(대문자 변환), lower(소문자 변환), replace(치환), split(분리) 등이 있습니다.\n",
        "\n",
        "아래 코드는 문자열의 생성, 인덱싱, 슬라이싱, 기본 메소드를 활용한 예제입니다."
      ],
      "metadata": {
        "id": "ap53mglu166e"
      }
    },
    {
      "cell_type": "code",
      "source": [
        "# 문자열 생성\n",
        "s = \"Hello, Python!\"\n",
        "print(s)"
      ],
      "metadata": {
        "id": "YfQsBSH21-qU"
      },
      "execution_count": null,
      "outputs": []
    },
    {
      "cell_type": "code",
      "source": [
        "# 인덱싱\n",
        "print(s[0]) # H\n",
        "print(s[-1]) # !"
      ],
      "metadata": {
        "id": "1WGKdn6g2AUL"
      },
      "execution_count": null,
      "outputs": []
    },
    {
      "cell_type": "code",
      "source": [
        "# 슬라이싱\n",
        "print(s[0:5]) # Hello"
      ],
      "metadata": {
        "id": "eJdXoU6K2BS_"
      },
      "execution_count": null,
      "outputs": []
    },
    {
      "cell_type": "code",
      "source": [
        "# 기본 메소드\n",
        "print(len(s)) # 14\n",
        "print(s.upper()) # HELLO, PYTHON!\n",
        "print(s.lower()) # hello, python!\n",
        "print(s.replace('Python', 'World')) # Hello, World!\n",
        "print(s.split(',')) # ['Hello', ' Python!']"
      ],
      "metadata": {
        "id": "AEBpZr_X2CFf"
      },
      "execution_count": null,
      "outputs": []
    },
    {
      "cell_type": "markdown",
      "source": [
        "+ 문자열과 숫자열은 서로 다른 자료형이기 때문에 연산을 수행할 때 주의해야 합니다.\n",
        "+ 문자열로 된 숫자를 덧셈 연산자로 직접 더하려고 하면 오류가 발생합니다.\n",
        "+ 이를 해결하기 위해서는 문자열을 숫자로 혹은 숫자형을 문자열로 변환한 후에 연산을 수행해야 합니다."
      ],
      "metadata": {
        "id": "FFcdrqnHXylO"
      }
    },
    {
      "cell_type": "code",
      "source": [
        "s = \"10\"  # 문자열로 된 숫자\n",
        "n = 20    # 숫자열\n",
        "\n",
        "result = s + n\n",
        "print(result)"
      ],
      "metadata": {
        "id": "MUXOILIeXTx3"
      },
      "execution_count": null,
      "outputs": []
    },
    {
      "cell_type": "code",
      "source": [
        "# 문자열과 숫자열의 구분\n",
        "\n",
        "s = \"10\"  # 문자열로 된 숫자\n",
        "n = 20    # 숫자열\n",
        "\n",
        "# 문자열을 숫자로 변환한 후에 덧셈 연산을 수행합니다.\n",
        "result1 = int(s) + n\n",
        "\n",
        "# 숫자를 문자열로 변환한 후에 덧셈 연산을 수행합니다.\n",
        "result2 = s + str(n)\n",
        "\n",
        "print(result1)  # 출력: 30\n",
        "print(type(result1))  # 출력: <class 'int'>\n",
        "\n",
        "print(result2)  # 출력: 1020\n",
        "print(type(result2))  # 출력: <class 'str'>"
      ],
      "metadata": {
        "id": "fWKRwKmQXXsi"
      },
      "execution_count": null,
      "outputs": []
    },
    {
      "cell_type": "markdown",
      "source": [
        "**리스트: 리스트의 생성, 인덱싱, 슬라이싱, 기본 메소드**\n",
        "\n",
        "리스트는 여러개의 데이터를 순차적으로 저장하는 자료형입니다. 파이썬에서 리스트는 대괄호([]) 안에 쉼표(,)로 구분하여 데이터를 저장합니다. 리스트의 각 요소는 다양한 자료형을 가질 수 있으며, 중복된 값을 가질 수 있습니다.\n",
        "\n",
        "리스트의 생성, 인덱싱, 슬라이싱, 기본 메소드 사용 방법은 문자열과 유사합니다. 다만, 리스트는 변경 가능(mutable)한 자료형으로, 인덱싱을 통해 특정 위치의 값을 변경하거나, 요소를 추가, 삭제하는 것이 가능합니다.\n",
        "\n",
        "리스트의 기본 메소드로는 append(추가), extend(확장), insert(삽입), remove(제거), pop(꺼내기), index(위치 찾기), count(개수 세기), sort(정렬), reverse(뒤집기) 등이 있습니다.\n",
        "\n",
        "아래 코드는 리스트의 생성, 인덱싱, 슬라이싱, 기본 메소드를 활용한 예제입니다."
      ],
      "metadata": {
        "id": "eDdQs66z2EXK"
      }
    },
    {
      "cell_type": "code",
      "source": [
        "# 리스트 생성\n",
        "list1 = [1, 2, 3, 4, 5]\n",
        "print(list1)"
      ],
      "metadata": {
        "id": "cyLhnNpq2Iap"
      },
      "execution_count": null,
      "outputs": []
    },
    {
      "cell_type": "code",
      "source": [
        "# 인덱싱\n",
        "print(list1[0]) # 1\n",
        "print(list1[-1]) # 5"
      ],
      "metadata": {
        "id": "aWVLr7oN2MwP"
      },
      "execution_count": null,
      "outputs": []
    },
    {
      "cell_type": "code",
      "source": [
        "# 슬라이싱\n",
        "print(list1[1:3]) # [2, 3]"
      ],
      "metadata": {
        "id": "3BuDpFdr2N7i"
      },
      "execution_count": null,
      "outputs": []
    },
    {
      "cell_type": "code",
      "source": [
        "# 값 변경\n",
        "list1[0] = 10\n",
        "print(list1) # [10, 2, 3, 4, 5]"
      ],
      "metadata": {
        "id": "HNKpoJ1V2Oqa"
      },
      "execution_count": null,
      "outputs": []
    },
    {
      "cell_type": "code",
      "source": [
        "# 기본 메소드\n",
        "list1.append(6) # [10, 2, 3, 4, 5, 6]\n",
        "list1.insert(1, 20) # [10, 20, 2, 3, 4, 5, 6]\n",
        "list1.remove(10) # [20, 2, 3, 4, 5, 6]\n",
        "print(list1.pop()) # 6\n",
        "print(list1) # [20, 2, 3, 4, 5]"
      ],
      "metadata": {
        "id": "XG9LMrZu2PaI"
      },
      "execution_count": null,
      "outputs": []
    },
    {
      "cell_type": "markdown",
      "source": [
        "## [Quiz #1.](https://forms.gle/spKf2Ng1odWoNrnA7)"
      ],
      "metadata": {
        "id": "SBa31U7RYbMP"
      }
    },
    {
      "cell_type": "markdown",
      "source": [
        "# **2. 조건문, 반복문, 함수**"
      ],
      "metadata": {
        "id": "Yl_EB7vmASsa"
      }
    },
    {
      "cell_type": "markdown",
      "source": [
        "**조건문: if, elif, else의 개념과 활용, 논리 연산자**\n",
        "\n",
        "조건문은 프로그램의 흐름을 제어하는 데 사용되는 구문입니다. 파이썬에서는 if, elif, else 키워드를 사용하여 조건문을 작성할 수 있습니다. 조건문은 주어진 조건식이 참인지 거짓인지에 따라 다른 코드 블록을 실행하게 됩니다. 또한, 논리 연산자인 and, or, not을 사용하여 복합 조건식을 작성할 수 있습니다. 조건문을 사용하여 특정 조건에 따라 다른 동작을 수행할 수 있습니다. 예를 들어, 성적에 따라 학점을 부여하는 프로그램을 작성해봅시다.\n",
        "\n"
      ],
      "metadata": {
        "id": "aM0RlpkP4cqd"
      }
    },
    {
      "cell_type": "code",
      "source": [
        "score = 50\n",
        "\n",
        "if score >= 90:\n",
        "    grade = 'A'\n",
        "elif score >= 80:\n",
        "    grade = 'B'\n",
        "elif score >= 70:\n",
        "    grade = 'C'\n",
        "elif score >= 60:\n",
        "    grade = 'D'\n",
        "else:\n",
        "    grade = 'F'\n",
        "\n",
        "print(\"성적:\", score)\n",
        "print(\"학점:\", grade)"
      ],
      "metadata": {
        "id": "eXyqWH894lhJ"
      },
      "execution_count": null,
      "outputs": []
    },
    {
      "cell_type": "markdown",
      "source": [
        "위의 예제에서는 변수 score에 저장된 성적에 따라 학점을 부여하는 조건문을 작성했습니다. 조건에 따라 다른 동작을 수행하기 위해 if, elif, else 키워드를 사용했습니다. 각 조건에 해당하지 않는 경우에는 else 블록을 실행합니다."
      ],
      "metadata": {
        "id": "GZ-7ku314tW1"
      }
    },
    {
      "cell_type": "markdown",
      "source": [
        "**실습: 홀짝 판별**\n",
        "\n",
        "주어진 숫자가 홀수인지 짝수인지 판별하는 프로그램을 작성해보세요."
      ],
      "metadata": {
        "id": "o766QBnG4wwV"
      }
    },
    {
      "cell_type": "code",
      "source": [
        "number = int(input(\"숫자를 입력하세요: \"))\n",
        "\n",
        "if number % 2 == 0:\n",
        "    print(\"짝수입니다.\")\n",
        "else:\n",
        "    print(\"홀수입니다.\")"
      ],
      "metadata": {
        "id": "DDw6M4yH4zOe"
      },
      "execution_count": null,
      "outputs": []
    },
    {
      "cell_type": "markdown",
      "source": [
        "위의 예제에서는 input() 함수를 사용하여 사용자로부터 숫자를 입력받고, 입력된 숫자가 홀수인지 짝수인지를 조건문을 통해 판별하여 출력합니다. 입력된 숫자를 2로 나누어 나머지가 0이면 짝수, 그렇지 않으면 홀수로 판별합니다."
      ],
      "metadata": {
        "id": "gx-zKIsI44v9"
      }
    },
    {
      "cell_type": "markdown",
      "source": [
        "**반복문: for문과 while문의 개념과 활용, 리스트 컴프리헨션**\n",
        "\n",
        "반복문은 동일한 코드 블록을 여러 번 실행하기 위해 사용됩니다. 파이썬에서는 for문과 while문을 통해 반복문을 작성할 수 있습니다. for문은 시퀀스나 컬렉션을 순회하면서 반복을 수행하고, while문은 조건식이 참인 동안 반복을 수행합니다. 반복문을 사용하여 특정 작업을 반복적으로 수행할 수 있습니다. 예를 들어, 리스트의 요소를 출력하는 프로그램을 작성해봅시다."
      ],
      "metadata": {
        "id": "abFT5Arq5IVc"
      }
    },
    {
      "cell_type": "code",
      "source": [
        "fruits = ['apple', 'banana', 'cherry']\n",
        "\n",
        "# for문을 이용한 반복\n",
        "for fruit in fruits:\n",
        "    print(fruit)"
      ],
      "metadata": {
        "id": "XOIyta5I40EO"
      },
      "execution_count": null,
      "outputs": []
    },
    {
      "cell_type": "code",
      "source": [
        "# while문을 이용한 반복\n",
        "\n",
        "index = 0  # 반복을 위한 인덱스 변수 초기화\n",
        "\n",
        "# while문을 사용하여 반복적으로 실행할 코드 블록을 정의합니다.\n",
        "# index 변수가 리스트 fruits의 길이보다 작을 때까지 반복합니다.\n",
        "while index < len(fruits):\n",
        "    print(fruits[index])  # 현재 인덱스에 해당하는 과일 출력\n",
        "    index += 1  # 인덱스 변수를 1씩 증가시킴\n"
      ],
      "metadata": {
        "id": "v_piJt-YZlzv"
      },
      "execution_count": null,
      "outputs": []
    },
    {
      "cell_type": "markdown",
      "source": [
        "**실습: 구구단, 등차수열**\n",
        "\n",
        "1부터 9까지의 숫자에 대해 구구단을 출력하는 프로그램을 작성해보세요."
      ],
      "metadata": {
        "id": "TmsaXjbb5QFm"
      }
    },
    {
      "cell_type": "code",
      "source": [
        "for i in range(1, 10):\n",
        "    for j in range(1, 10):\n",
        "        print(i, \"*\", j, \"=\", i * j)"
      ],
      "metadata": {
        "id": "JT3zD8hM5S00"
      },
      "execution_count": null,
      "outputs": []
    },
    {
      "cell_type": "markdown",
      "source": [
        "위의 예제에서는 중첩된 for문을 사용하여 1부터 9까지의 숫자에 대한 구구단을 출력합니다. 외부의 for문은 1부터 9까지의 숫자를 반복하고, 내부의 for문은 1부터 9까지의 숫자를 반복하여 곱셈을 수행합니다."
      ],
      "metadata": {
        "id": "2fTjVND75Ucd"
      }
    },
    {
      "cell_type": "code",
      "source": [
        "# while문을 이용한 반복 - 숫자 더하기\n",
        "\n",
        "total = 0  # 숫자 누적을 위한 변수 초기화\n",
        "count = 1  # 반복 횟수를 나타내는 변수 초기화\n",
        "\n",
        "# while문을 사용하여 반복적으로 실행할 코드 블록을 정의합니다.\n",
        "# count 변수가 10보다 작거나 같을 때까지 반복합니다.\n",
        "while count <= 10:\n",
        "    total += count  # total에 count 값을 더하여 누적합니다.\n",
        "    count += 1  # count 변수를 1씩 증가시킴\n",
        "\n",
        "# 반복이 종료된 후, 누적된 숫자의 합을 출력합니다.\n",
        "print(\"숫자의 합:\", total)"
      ],
      "metadata": {
        "id": "eV-Z-l9FaAp0"
      },
      "execution_count": null,
      "outputs": []
    },
    {
      "cell_type": "markdown",
      "source": [
        "+ 위의 예제에서는 등차수열 1부터 10까지의 합을 출력합니다. 1부터 N까지의 등차수열의 합을 구하는 가우스의 합 공식은 다음과 같습니다: <합 = (첫째항 + 막항) x 항의 개수 ÷ 2> 따라서 1부터 10까지의 합은 다음과 같이 계산할 수 있습니다: <합 = (1 + 10) x 10 ÷ 2 = 55> 결과적으로 1부터 10까지의 합은 55입니다."
      ],
      "metadata": {
        "id": "OPrbEbOpaVTN"
      }
    },
    {
      "cell_type": "markdown",
      "source": [
        "**함수: 함수의 정의와 호출, 지역 변수와 전역 변수, 람다 함수, f-string**\n",
        "\n",
        "함수는 코드를 구성하는 모듈화된 블록으로, 특정 작업을 수행하는 코드의 집합입니다. 파이썬에서 함수를 정의할 때에는 def 키워드를 사용합니다. 함수는 입력값을 받아서 원하는 작업을 수행한 뒤, 결과값을 반환할 수 있습니다. 함수를 사용하여 코드를 구조화하고 재사용 가능한 모듈로 만들 수 있습니다. 예를 들어, 두 수의 합을 구하는 함수를 정의하고 호출해봅시다."
      ],
      "metadata": {
        "id": "8htuEa4W5W8z"
      }
    },
    {
      "cell_type": "code",
      "source": [
        "def add_numbers(a, b):\n",
        "    return a + b\n",
        "\n",
        "result = add_numbers(3, 5)\n",
        "print(result)  # 8"
      ],
      "metadata": {
        "id": "7LpRJOSL5b2A"
      },
      "execution_count": null,
      "outputs": []
    },
    {
      "cell_type": "markdown",
      "source": [
        "위의 예제에서는 add_numbers()라는 함수를 정의하고, 함수를 호출하여 두 수의 합을 계산하여 반환합니다. 함수는 입력값을 받기 위해 괄호 안에 매개변수를 정의하고, return 키워드를 사용하여 결과값을 반환합니다."
      ],
      "metadata": {
        "id": "GGDjYr125c6r"
      }
    },
    {
      "cell_type": "markdown",
      "source": [
        "지역 변수와 전역 변수:\n",
        "\n",
        "+ 파이썬에서 변수는 지역 변수(Local Variable)와 전역 변수(Global Variable)로 나눌 수 있습니다.\n",
        "\n",
        "+ 지역 변수는 함수 내부에서 정의된 변수로, 해당 함수 내에서만 유효합니다. 함수가 호출될 때 생성되고, 함수가 종료되면 소멸합니다. 지역 변수는 함수 내에서만 접근할 수 있으며, 함수 외부에서는 사용할 수 없습니다. 이는 함수 간의 변수 충돌을 방지하고, 변수의 유효 범위를 제한하는 데 유용합니다.\n",
        "\n",
        "+ 전역 변수는 함수 외부에서 정의된 변수로, 프로그램 전체에서 접근할 수 있습니다. 전역 변수는 프로그램이 실행되는 동안 계속 유지되며, 여러 함수에서 공유하여 사용할 수 있습니다. 단, 전역 변수의 값을 변경하려면 global 키워드를 사용하여 해당 변수가 전역 변수임을 명시해야 합니다. 그렇지 않으면 새로운 지역 변수가 생성되며, 전역 변수의 값은 변경되지 않습니다.\n",
        "\n",
        "+ 다음은 지역 변수와 전역 변수의 예제 코드입니다:"
      ],
      "metadata": {
        "id": "WEVYrZ6rbf59"
      }
    },
    {
      "cell_type": "code",
      "source": [
        "# 전역 변수\n",
        "global_variable = 10\n",
        "\n",
        "def my_function():\n",
        "    # 지역 변수\n",
        "    local_variable = 20\n",
        "    print(\"지역 변수:\", local_variable)\n",
        "    print(\"전역 변수:\", global_variable)\n",
        "\n",
        "my_function()\n",
        "print(\"전역 변수:\", global_variable)\n",
        "\n",
        "# 지역 변수: 20\n",
        "# 전역 변수: 10\n",
        "# 전역 변수: 10"
      ],
      "metadata": {
        "id": "VhZuTlfPbjSE"
      },
      "execution_count": null,
      "outputs": []
    },
    {
      "cell_type": "code",
      "source": [
        "global_variable = 10  # 전역 변수\n",
        "\n",
        "def modify_global_variable():\n",
        "    global global_variable  # 전역 변수임을 명시\n",
        "    global_variable += 5  # 전역 변수의 값을 변경\n",
        "\n",
        "def print_global_variable():\n",
        "    print(\"전역 변수 값:\", global_variable)  # 전역 변수 출력\n",
        "\n",
        "# 전역 변수 출력\n",
        "print_global_variable()  # 출력: 전역 변수 값: 10\n",
        "\n",
        "# 전역 변수 수정\n",
        "modify_global_variable()\n",
        "\n",
        "# 변경된 전역 변수 출력\n",
        "print_global_variable()  # 출력: 전역 변수 값: 15\n"
      ],
      "metadata": {
        "id": "8nE6NgjVcLQc"
      },
      "execution_count": null,
      "outputs": []
    },
    {
      "cell_type": "markdown",
      "source": [
        "+ 위 코드에서는 global_variable이라는 전역 변수를 정의하고, modify_global_variable() 함수에서 global 키워드를 사용하여 전역 변수임을 명시하고 값을 변경합니다. print_global_variable() 함수에서는 전역 변수를 출력합니다.\n",
        "\n",
        "+ 전역 변수를 함수 내에서 변경할 때는 global 키워드를 사용하여 해당 변수가 전역 변수임을 명시해야 합니다. 이렇게 함으로써 함수 내부에서도 전역 변수의 값을 수정할 수 있습니다."
      ],
      "metadata": {
        "id": "PkXfiGMMcObC"
      }
    },
    {
      "cell_type": "markdown",
      "source": [
        "람다 함수 (Lambda Function):\n",
        "\n",
        "+ 람다 함수는 익명 함수(anonymous function)로도 알려져 있습니다. 익명 함수는 함수의 이름 없이 한 줄로 간단하게 정의되는 함수입니다. 람다 함수는 주로 간단한 연산이나 함수의 인자로 사용되는 경우에 활용됩니다.\n",
        "\n",
        "+ 람다 함수의 기본 구조는 다음과 같습니다:"
      ],
      "metadata": {
        "id": "c7uHh6Wrb3ds"
      }
    },
    {
      "cell_type": "code",
      "source": [
        "lambda arguments: expression"
      ],
      "metadata": {
        "id": "kE6UPCieb7dU"
      },
      "execution_count": null,
      "outputs": []
    },
    {
      "cell_type": "markdown",
      "source": [
        "+ arguments는 함수의 인자를 나타내며, expression은 함수의 반환값을 나타냅니다. 람다 함수는 이 구조를 사용하여 간단한 함수를 정의하고 호출할 수 있습니다.\n",
        "\n",
        "+ 다음은 람다 함수의 예제 코드입니다:"
      ],
      "metadata": {
        "id": "PFfUJDb7b-ge"
      }
    },
    {
      "cell_type": "code",
      "source": [
        "# 람다 함수를 사용하여 두 수의 합을 계산하는 예제\n",
        "add_numbers = lambda x, y: x + y\n",
        "result = add_numbers(3, 5)\n",
        "print(result)  # 8"
      ],
      "metadata": {
        "id": "9TPo0vx5cBDw"
      },
      "execution_count": null,
      "outputs": []
    },
    {
      "cell_type": "markdown",
      "source": [
        "+ 위 코드에서는 람다 함수를 사용하여 add_numbers() 함수를 정의하고 호출하여 두 수의 합을 계산합니다. 람다 함수는 간단하게 함수를 정의하고 변수에 할당하여 사용할 수 있습니다."
      ],
      "metadata": {
        "id": "3efjLx6fcCTU"
      }
    },
    {
      "cell_type": "markdown",
      "source": [
        "f-string(formatted string)"
      ],
      "metadata": {
        "id": "YaPMFikWQxD-"
      }
    },
    {
      "cell_type": "markdown",
      "source": [
        "+ f-string은 파이썬 3.6 버전부터 도입된 문자열 포맷팅 방식으로, 문자열 안에 변수나 표현식의 값을 간단하게 삽입하여 포맷팅하는 기능을 제공합니다. f-string은 접두사로 'f'를 사용하며, 중괄호({}) 안에 변수 또는 표현식을 넣어 사용합니다.\n",
        "\n",
        "+ f-string은 변수나 표현식을 직접 문자열 안에 삽입하여 사용하므로, 가독성이 좋고 작성하기도 편리합니다. 또한 f-string은 다양한 포맷팅 옵션과 함께 사용할 수 있어 더욱 유연한 문자열 포맷팅을 가능하게 합니다."
      ],
      "metadata": {
        "id": "jQWgtilLRBSh"
      }
    },
    {
      "cell_type": "markdown",
      "source": [
        "+ 다음은 f-string의 사용 방법을 설명하는 예제 코드입니다:\n",
        "\n",
        "+ 아래의 코드에서는 f-string을 사용하여 {} 안에 변수 name과 age를 넣어 문자열을 생성하고 출력합니다. 결과는 \"My name is Alice and I am 25 years old.\"가 됩니다."
      ],
      "metadata": {
        "id": "5E8MwyogRiMX"
      }
    },
    {
      "cell_type": "code",
      "source": [
        "name = \"Alice\"\n",
        "age = 50\n",
        "\n",
        "# f-string을 사용하여 변수를 포맷팅하여 문자열 생성\n",
        "message = f\"My name is {name} and I am {age} years old.\"\n",
        "print(message)"
      ],
      "metadata": {
        "id": "ZePLGGkBRNmb"
      },
      "execution_count": null,
      "outputs": []
    },
    {
      "cell_type": "markdown",
      "source": [
        "+ f-string은 변수 뿐만 아니라 표현식도 사용할 수 있습니다. 다음은 f-string을 사용하여 간단한 표현식을 포맷팅하는 예제입니다:\n",
        "\n",
        "+ 아래 코드에서는 f-string을 사용하여 {} 안에 변수 x, y, 그리고 표현식 x + y를 넣어 문자열을 생성하고 출력합니다. 결과는 \"The sum of 3 and 4 is 7.\"이 됩니다."
      ],
      "metadata": {
        "id": "74i6LvmxRXeE"
      }
    },
    {
      "cell_type": "code",
      "source": [
        "x = 3\n",
        "y = 4\n",
        "\n",
        "# f-string을 사용하여 표현식을 포맷팅하여 문자열 생성\n",
        "result = f\"The sum of {x} and {y} is {x + y}.\"\n",
        "print(result)"
      ],
      "metadata": {
        "id": "1BtK6yvlRYwF"
      },
      "execution_count": null,
      "outputs": []
    },
    {
      "cell_type": "markdown",
      "source": [
        "**실습: 팩토리얼 계산**\n",
        "\n",
        "주어진 숫자의 팩토리얼을 계산하는 함수를 작성해보세요."
      ],
      "metadata": {
        "id": "83RVDjHs5ens"
      }
    },
    {
      "cell_type": "code",
      "source": [
        "def factorial(n):\n",
        "    if n == 0 or n == 1:  # 0 또는 1일 때는 1을 반환합니다. (팩토리얼의 기저 조건)\n",
        "        return 1\n",
        "    else:\n",
        "        return n * factorial(n - 1)  # n과 n-1의 팩토리얼을 곱하여 재귀적으로 팩토리얼을 계산합니다. -> 재귀(Recursion): 함수 내에서 자기 자신을 호출\n",
        "\n",
        "number = int(input(\"숫자를 입력하세요: \"))  # 사용자로부터 숫자를 입력받습니다.\n",
        "result = factorial(number)  # factorial 함수를 호출하여 입력된 숫자의 팩토리얼을 계산합니다.\n",
        "print(number, \"의 팩토리얼은\", result, \"입니다.\")  # 결과를 출력합니다."
      ],
      "metadata": {
        "id": "sRZjrAzc5g3h"
      },
      "execution_count": null,
      "outputs": []
    },
    {
      "cell_type": "markdown",
      "source": [
        "위의 예제에서는 factorial()이라는 재귀적인 함수를 정의하고, 함수를 호출하여 주어진 숫자의 팩토리얼을 계산합니다. 팩토리얼은 0 또는 1일 때는 1을 반환하고, 그 외의 경우에는 주어진 숫자에 이전 숫자의 팩토리얼을 곱한 값을 반환합니다."
      ],
      "metadata": {
        "id": "sBo6w3w75iOL"
      }
    },
    {
      "cell_type": "markdown",
      "source": [
        "**실습: 리스트의 합 구하기**\n",
        "\n",
        "주어진 리스트에 있는 숫자들의 합을 구하는 함수를 작성해보세요."
      ],
      "metadata": {
        "id": "h1BT06vYdI0V"
      }
    },
    {
      "cell_type": "code",
      "source": [
        "def calculate_sum(numbers):\n",
        "    total = 0  # 합을 저장할 변수를 초기화합니다.\n",
        "    for number in numbers:  # 리스트의 각 요소를 반복하면서\n",
        "        total += number  # 합에 현재 요소를 더합니다.\n",
        "    return total  # 최종 합을 반환합니다.\n",
        "\n",
        "my_numbers = [1, 2, 3, 4, 5]  # 숫자 리스트를 정의합니다.\n",
        "\n",
        "result = calculate_sum(my_numbers)  # calculate_sum 함수를 호출하여 리스트의 합을 계산합니다.\n",
        "\n",
        "print(\"리스트의 합:\", result)  # 결과를 출력합니다."
      ],
      "metadata": {
        "id": "49OeDobIdOG0"
      },
      "execution_count": null,
      "outputs": []
    },
    {
      "cell_type": "markdown",
      "source": [
        "위의 코드에서는 calculate_sum() 함수를 정의하여 주어진 리스트에 있는 숫자들의 합을 계산합니다. 함수는 입력으로 숫자 리스트를 받고, 반복문을 통해 각 숫자를 더하여 총합을 계산한 뒤 반환합니다. 마지막으로 계산된 합을 출력합니다."
      ],
      "metadata": {
        "id": "SW8WBqAcdQus"
      }
    },
    {
      "cell_type": "markdown",
      "source": [
        "**실습: 문자열 거꾸로 출력하기**\n",
        "\n",
        "\n",
        "주어진 문자열을 거꾸로 출력하는 함수를 작성해보세요."
      ],
      "metadata": {
        "id": "v4bkKMjKdRsc"
      }
    },
    {
      "cell_type": "code",
      "source": [
        "def reverse_string(input_string):\n",
        "    reversed_string = \"\"  # 빈 문자열을 초기화합니다.\n",
        "    for char in input_string:  # 주어진 문자열을 한 글자씩 반복합니다.\n",
        "        reversed_string = char + reversed_string  # 현재 글자를 이전에 더한 문자열 앞에 붙입니다.\n",
        "    return reversed_string  # 거꾸로 된 문자열을 반환합니다.\n",
        "\n",
        "# 문자열 입력\n",
        "my_string = \"Hello, Python!\"\n",
        "\n",
        "# 문자열 거꾸로 출력 함수 호출\n",
        "result = reverse_string(my_string)\n",
        "\n",
        "print(\"거꾸로 출력된 문자열:\", result)"
      ],
      "metadata": {
        "id": "1QRXIE1YdU42"
      },
      "execution_count": null,
      "outputs": []
    },
    {
      "cell_type": "markdown",
      "source": [
        "reversed_string = char + reversed_string 이 부분은 현재 글자(char)를 이전에 더한 문자열(reversed_string)의 앞에 붙이는 역할을 합니다. reversed_string은 초기에 빈 문자열로 초기화되었습니다. 반복문에서는 주어진 문자열(input_string)을 한 글자씩 순회하면서 현재 글자를 reversed_string의 앞에 붙입니다. 이렇게 하면 반복문이 진행됨에 따라 reversed_string은 거꾸로 된 문자열이 됩니다. 반복문은 다음과 같이 동작합니다:\n",
        "\n",
        "+ 첫 번째 반복: reversed_string은 빈 문자열이므로 현재 글자 \"H\"를 그대로 reversed_string에 할당합니다. 따라서 reversed_string은 \"H\"가 됩니다.\n",
        "+ 두 번째 반복: 현재 글자 \"e\"를 reversed_string의 앞에 붙입니다. 따라서 reversed_string은 \"eH\"가 됩니다.\n",
        "+ 세 번째 반복: 현재 글자 \"l\"을 reversed_string의 앞에 붙입니다. 따라서 reversed_string은 \"leH\"가 됩니다.\n",
        "+ 네 번째 반복: 현재 글자 \"l\"을 reversed_string의 앞에 붙입니다. 따라서 reversed_string은 \"lleH\"가 됩니다.\n",
        "+ 다섯 번째 반복: 현재 글자 \"o\"을 reversed_string의 앞에 붙입니다. 따라서 reversed_string은 \"olleH\"가 됩니다.\n",
        "+ 나머지 반복문에서도 위의 과정을 반복하여 reversed_string은 최종적으로 \"nohtyP ,olleH\"가 됩니다.\n",
        "+ 결과적으로 reversed_string은 입력된 문자열을 거꾸로 뒤집은 형태가 되고, 이 값이 함수의 반환값으로 출력되게 됩니다."
      ],
      "metadata": {
        "id": "DGJLhOxedWfn"
      }
    },
    {
      "cell_type": "markdown",
      "source": [
        "## [Quiz #2.](https://forms.gle/KkWaEj6m35b41cgs9)"
      ],
      "metadata": {
        "id": "9jQ65jyPp1K3"
      }
    },
    {
      "cell_type": "markdown",
      "source": [
        "# **3. Numpy 개념과 활용**"
      ],
      "metadata": {
        "id": "xlrnGdqrA4fJ"
      }
    },
    {
      "cell_type": "markdown",
      "source": [
        "**Numpy 라이브러리 소개**\n",
        "\n",
        "+ Numpy는 'Numeric Python'의 줄임말로, Python에서 과학적 계산을 위해 사용하는 핵심 라이브러리입니다. Numpy는 다차원 배열 객체와 이를 처리할 수 있는 다양한 함수를 제공하며, 이는 대규모 데이터 집합을 효과적으로 처리할 수 있게 합니다. Numpy는 기본적으로 동일한 데이터 타입을 가진 원소들을 가지는 다차원 배열, 즉 ndarray(N-dimensional array)를 기본 데이터 구조로 사용합니다.\n",
        "\n",
        "+ Python의 기본 데이터 구조인 list와 비교할 때, Numpy의 ndarray는 빠른 연산 속도와 적은 메모리를 사용하여 효율적인 데이터 처리가 가능합니다. 그러므로 Python에서 데이터 분석, 머신 러닝 등에서는 Numpy를 이용하여 데이터 배열을 다룹니다.\n",
        "\n",
        "+ Numpy는 특히 데이터 분석에서 중요한 몇 가지 기능들을 제공합니다.\n",
        " - 빠르고 메모리를 효율적으로 사용하며, 벡터 연산과 브로드캐스팅 기능을 제공하는 다차원 배열인 ndarray 제공\n",
        " - 배열 데이터를 디스크에 쓰거나 읽을 수 있는 도구와 메모리에 올려진 파일을 사용하는 도구\n",
        " - 선형 대수, 난수 발생기, 푸리에 변환 기능\n",
        " - C, C++, 포트란으로 쓰여진 코드를 통합하는 도구"
      ],
      "metadata": {
        "id": "lCZgKVanA4fQ"
      }
    },
    {
      "cell_type": "markdown",
      "source": [
        "[NumPy Cheat Sheet](https://images.datacamp.com/image/upload/v1676302459/Marketing/Blog/Numpy_Cheat_Sheet.pdf)"
      ],
      "metadata": {
        "id": "mddtjLVkkqNr"
      }
    },
    {
      "cell_type": "markdown",
      "source": [
        "**Numpy 배열의 생성 및 특성**\n",
        "\n",
        "+ Numpy 배열은 np.array 함수를 사용하여 생성할 수 있습니다. 이때 입력 데이터로는 리스트를 넘겨줍니다. 또한, Numpy는 원하는 크기와 모양의 배열을 생성하고 특정한 값으로 초기화하는 여러 가지 함수를 제공합니다."
      ],
      "metadata": {
        "id": "wygMiYQ5A4fR"
      }
    },
    {
      "cell_type": "code",
      "source": [
        "import numpy as np\n",
        "\n",
        "# 1차원 배열 생성\n",
        "a = np.array([1, 2, 3])\n",
        "print(a)\n",
        "\n",
        "# 2차원 배열 생성\n",
        "b = np.array([(1.5, 2, 3), (4, 5, 6)])\n",
        "print(b)"
      ],
      "metadata": {
        "id": "QS1V6H7xmFlj"
      },
      "execution_count": null,
      "outputs": []
    },
    {
      "cell_type": "markdown",
      "source": [
        "+ Numpy 배열 객체 ndarray의 중요한 속성들은 다음과 같습니다.\n",
        " - 배열의 차원(축의 수)을 나타내는 ndarray.ndim\n",
        " - 배열의 모양을 나타내는 ndarray.shape\n",
        " - 배열의 전체 요소 개수를 나타내는 ndarray.size\n",
        " - 배열 요소의 타입을 나타내는 ndarray.dtype"
      ],
      "metadata": {
        "id": "-A9OXSX1mOiG"
      }
    },
    {
      "cell_type": "code",
      "source": [
        "# 위의 a, b 배열을 사용하여 배열의 특성 확인\n",
        "print(\"a's ndim \", a.ndim)\n",
        "print(\"b's shape \", b.shape)\n",
        "print(\"b's size \", b.size)\n",
        "print(\"b's dtype \", b.dtype)"
      ],
      "metadata": {
        "id": "M0VDda2ymUJj"
      },
      "execution_count": null,
      "outputs": []
    },
    {
      "cell_type": "markdown",
      "source": [
        "**Numpy 기본 연산과 함수**"
      ],
      "metadata": {
        "id": "x9VgzkhvA4fR"
      }
    },
    {
      "cell_type": "markdown",
      "source": [
        "**기본연산**\n",
        "\n",
        "+ Numpy 배열은 기본적으로 요소 단위로 연산이 이루어집니다. 이는 배열의 각 요소에 대해 동일한 연산을 수행한다는 의미입니다. 이와 같은 연산은 효율적이며, 코드를 간결하게 만들어 줍니다. 또한, Numpy 배열과 스칼라 값 간의 연산은 배열의 모든 요소에 스칼라 값을 적용하여 연산합니다."
      ],
      "metadata": {
        "id": "D9_tJgKJmiMN"
      }
    },
    {
      "cell_type": "code",
      "source": [
        "# a 배열과 스칼라 2에 대한 기본 연산\n",
        "print(a + 2)\n",
        "print(a - 2)\n",
        "print(a * 2)\n",
        "print(a / 2)"
      ],
      "metadata": {
        "id": "aLB-CoL4ml3S"
      },
      "execution_count": null,
      "outputs": []
    },
    {
      "cell_type": "markdown",
      "source": [
        "**Numpy 함수**\n",
        "\n",
        "+ Numpy는 수학적 연산을 위한 다양한 함수를 제공합니다. sum, min, max, mean 등의 기본적인 통계 함수를 비롯하여 sin, cos 등의 삼각 함수, exp, sqrt 등의 고급 수학 함수를 제공합니다.\n",
        "\n"
      ],
      "metadata": {
        "id": "WLJ9hl4PmojW"
      }
    },
    {
      "cell_type": "code",
      "source": [
        "# a 배열에 대한 sum, min, max, mean 함수 사용\n",
        "print(np.sum(a))\n",
        "print(np.min(a))\n",
        "print(np.max(a))\n",
        "print(np.mean(a))\n",
        "\n",
        "# a 배열에 대한 sin 함수와 exp 함수 사용\n",
        "print(np.sin(a))\n",
        "print(np.exp(a))"
      ],
      "metadata": {
        "id": "d3O1_5_-mtcw"
      },
      "execution_count": null,
      "outputs": []
    },
    {
      "cell_type": "markdown",
      "source": [
        "**실습: Numpy를 활용한 배열 생성 및 연산**"
      ],
      "metadata": {
        "id": "zlD7cL-rnOq1"
      }
    },
    {
      "cell_type": "code",
      "source": [
        "# 실습 1: Numpy를 import 하세요.\n",
        "import numpy as np"
      ],
      "metadata": {
        "id": "VzGJgR1tnSfo"
      },
      "execution_count": null,
      "outputs": []
    },
    {
      "cell_type": "code",
      "source": [
        "# 실습 2: 1차원 배열을 생성해보세요.\n",
        "arr1 = np.array([1, 2, 3, 4, 5])\n",
        "print(\"1D Array:\\n\", arr1)"
      ],
      "metadata": {
        "id": "iE9ohymJnWUg"
      },
      "execution_count": null,
      "outputs": []
    },
    {
      "cell_type": "code",
      "source": [
        "# 2차원 배열을 생성해보세요.\n",
        "arr2 = np.array([[1, 2, 3], [4, 5, 6], [7, 8, 9]])\n",
        "print(\"\\n2D Array:\\n\", arr2)"
      ],
      "metadata": {
        "id": "PccQmq4GnX0S"
      },
      "execution_count": null,
      "outputs": []
    },
    {
      "cell_type": "code",
      "source": [
        "# 실습 3: 생성한 배열의 차원, 형태, 요소 개수, 요소 타입을 확인해보세요.\n",
        "print(\"\\nProperties of arr1:\")\n",
        "print(\"Number of dimensions: \", arr1.ndim)\n",
        "print(\"Shape: \", arr1.shape)\n",
        "print(\"Size: \", arr1.size)\n",
        "print(\"Data type: \", arr1.dtype)\n",
        "\n",
        "print(\"\\nProperties of arr2:\")\n",
        "print(\"Number of dimensions: \", arr2.ndim)\n",
        "print(\"Shape: \", arr2.shape)\n",
        "print(\"Size: \", arr2.size)\n",
        "print(\"Data type: \", arr2.dtype)"
      ],
      "metadata": {
        "id": "GbG7tOZsnbTh"
      },
      "execution_count": null,
      "outputs": []
    },
    {
      "cell_type": "code",
      "source": [
        "# 실습 4: 배열과 스칼라 값 간의 기본 연산을 수행해보세요.\n",
        "print(\"\\nOperations on arr1:\")\n",
        "print(\"Add 10: \", arr1 + 10)\n",
        "print(\"Subtract 2: \", arr1 - 2)\n",
        "print(\"Multiply by 3: \", arr1 * 3)\n",
        "print(\"Divide by 4: \", arr1 / 4)"
      ],
      "metadata": {
        "id": "RSYZOP9AnY5A"
      },
      "execution_count": null,
      "outputs": []
    },
    {
      "cell_type": "code",
      "source": [
        "# 실습 5: 배열에 대해 sum, min, max, mean 함수를 사용해보세요.\n",
        "print(\"\\nStatistics on arr2:\")\n",
        "print(\"Sum: \", np.sum(arr2))\n",
        "print(\"Min: \", np.min(arr2))\n",
        "print(\"Max: \", np.max(arr2))\n",
        "print(\"Mean: \", np.mean(arr2))"
      ],
      "metadata": {
        "id": "zYrDaj_EnaI7"
      },
      "execution_count": null,
      "outputs": []
    },
    {
      "cell_type": "code",
      "source": [
        "# 실습 6: 배열에 대해 sin 함수와 exp 함수를 사용해보세요.\n",
        "print(\"\\nFunctions on arr1:\")\n",
        "print(\"Sine: \", np.sin(arr1))\n",
        "print(\"Exponential: \", np.exp(arr1))"
      ],
      "metadata": {
        "id": "aZJVZVxfnZih"
      },
      "execution_count": null,
      "outputs": []
    },
    {
      "cell_type": "markdown",
      "source": [
        "## [Quiz #3.](https://forms.gle/6u8sJ2g3K8XZ6umg7)"
      ],
      "metadata": {
        "id": "VVVs_Z-Rr6k1"
      }
    },
    {
      "cell_type": "markdown",
      "source": [
        "# **4. Pandas 개념과 활용**"
      ],
      "metadata": {
        "id": "b8bo87gtA4fU"
      }
    },
    {
      "cell_type": "markdown",
      "source": [
        "**Pandas 라이브러리 소개**\n",
        "\n",
        "+ Pandas는 Python에서 데이터 분석을 위해 사용하는 가장 대표적인 라이브러리입니다. Numpy를 기반으로 만들어졌지만, 더 높은 수준의 데이터 구조와 다양한 데이터 분석 기능을 제공합니다. Pandas는 대용량의 데이터를 효율적으로 처리하고 가공할 수 있는 훌륭한 도구입니다.\n",
        "+ Pandas는 주로 Series와 DataFrame 두 가지 데이터 구조를 사용합니다.\n",
        " - Series는 1차원 배열의 데이터 구조로, 인덱스와 함께 표현됩니다.\n",
        " - DataFrame은 2차원 배열로 행방향 인덱스와 열방향 인덱스가 함께 표현되는 구조입니다. 행과 열로 이루어진 데이터 구조로 SQL, Excel의 표 형태와 유사합니다.\n",
        "\n"
      ],
      "metadata": {
        "id": "smBE8ia9A4fU"
      }
    },
    {
      "cell_type": "markdown",
      "source": [
        "[Pandas Cheat Sheet](https://pandas.pydata.org/Pandas_Cheat_Sheet.pdf)"
      ],
      "metadata": {
        "id": "CulJIcuaKyGG"
      }
    },
    {
      "cell_type": "markdown",
      "source": [
        "**시리즈(Series) 및 데이터프레임(DataFrame)의 개념**"
      ],
      "metadata": {
        "id": "52COi1GVoCDZ"
      }
    },
    {
      "cell_type": "markdown",
      "source": [
        "+ Series는 일련의 객체를 담을 수 있는 1차원 배열 같은 자료구조입니다. 색인(index)이라고 하는 배열의 데이터에 연관된 이름을 가지고 있습니다."
      ],
      "metadata": {
        "id": "2Yw7QX4ooErE"
      }
    },
    {
      "cell_type": "code",
      "source": [
        "import pandas as pd\n",
        "\n",
        "# Series 생성\n",
        "obj = pd.Series([4, 7, -5, 3])\n",
        "print(obj)"
      ],
      "metadata": {
        "id": "DXDKFcRwoXL5"
      },
      "execution_count": null,
      "outputs": []
    },
    {
      "cell_type": "markdown",
      "source": [
        "+ DataFrame은 표 같은 스프레드시트 형식의 자료 구조로 여러 개의 컬럼이 있고 각 컬럼은 서로 다른 종류의 값(숫자, 문자열, 불리언 등)을 담을 수 있습니다."
      ],
      "metadata": {
        "id": "ndRtqZUCoZOZ"
      }
    },
    {
      "cell_type": "code",
      "source": [
        "# DataFrame 생성\n",
        "data = {'state': ['Ohio', 'Ohio', 'Ohio', 'Nevada', 'Nevada', 'Nevada'],\n",
        "        'year': [2000, 2001, 2002, 2001, 2002, 2003],\n",
        "        'pop': [1.5, 1.7, 3.6, 2.4, 2.9, 3.2]}\n",
        "frame = pd.DataFrame(data)\n",
        "print(frame)"
      ],
      "metadata": {
        "id": "zc1e7T0IobDH"
      },
      "execution_count": null,
      "outputs": []
    },
    {
      "cell_type": "code",
      "source": [
        "frame"
      ],
      "metadata": {
        "id": "hxTme2QB-7EI"
      },
      "execution_count": null,
      "outputs": []
    },
    {
      "cell_type": "markdown",
      "source": [
        "**데이터프레임 생성**"
      ],
      "metadata": {
        "id": "GTIkY_I3oIeX"
      }
    },
    {
      "cell_type": "markdown",
      "source": [
        "+ seaborn 라이브러리를 통해 데이터를 불러오고, 이를 DataFrame으로 만드는 방법을 알아봅시다."
      ],
      "metadata": {
        "id": "mxB7x6P6ofKT"
      }
    },
    {
      "cell_type": "code",
      "source": [
        "import seaborn as sns\n",
        "import pandas as pd\n",
        "\n",
        "# seaborn의 내장 데이터셋을 불러오기\n",
        "tips = sns.load_dataset('tips')\n",
        "tips"
      ],
      "metadata": {
        "id": "aX-vZxSQt6Eb"
      },
      "execution_count": null,
      "outputs": []
    },
    {
      "cell_type": "markdown",
      "source": [
        "레스토랑 팁 데이터셋(tips): 이 데이터셋은 레스토랑에서 식사 후 남긴 팁에 대한 정보를 포함하고 있습니다. 각 열은 다음을 나타냅니다:\n",
        "\n",
        "*   total_bill: 총 청구 금액\n",
        "*   tip: 팁 금액\n",
        "*   sex: 성별\n",
        "*   smoker: 흡연 여부\n",
        "*   day: 요일\n",
        "*   time: 시간 (Lunch, Dinner)\n",
        "*   size: 식사 인원"
      ],
      "metadata": {
        "id": "ZpdiHTeq1QlF"
      }
    },
    {
      "cell_type": "markdown",
      "source": [
        "**데이터 재구성 (Reshaping Data)**"
      ],
      "metadata": {
        "id": "TrtrKnWc1c9H"
      }
    },
    {
      "cell_type": "markdown",
      "source": [
        "+ 데이터 재구성은 데이터프레임의 형태를 변경하는 것을 의미합니다. 데이터를 재구성하는 것은 분석 작업의 중요한 단계입니다. 데이터의 형태를 바꾸거나, 특정 열을 기준으로 정렬하거나, 인덱스를 변경하는 등의 작업을 포함합니다.\n",
        "\n"
      ],
      "metadata": {
        "id": "rscf_GvJ1g2N"
      }
    },
    {
      "cell_type": "markdown",
      "source": [
        "**데이터의 형태 변경하기**\n",
        "\n",
        "+ 데이터를 재구성하거나 복잡한 질문에 답하려면, 데이터의 형태를 바꿔야 할 수 있습니다. 이를 위해 melt 함수를 사용할 수 있습니다.\n",
        "+ 아래의 코드를 실행하면 'total_bill'과 'tip' 열이 하나의 열로 병합되고, 해당 값들은 새로운 'value' 열에 나타나게 됩니다."
      ],
      "metadata": {
        "id": "p7Pl3Giy3INY"
      }
    },
    {
      "cell_type": "code",
      "source": [
        "# 'melt' 함수를 이용해 'tips' 데이터프레임의 형태를 변경합니다. 'id_vars'는 유지하고자 하는 열, 'value_vars'는 행으로 바꾸려는 열입니다.\n",
        "reshaped_tips = tips.melt(id_vars=['sex','smoker'], value_vars=['total_bill', 'tip'])\n",
        "reshaped_tips"
      ],
      "metadata": {
        "id": "OsOoPzff0MT4"
      },
      "execution_count": null,
      "outputs": []
    },
    {
      "cell_type": "markdown",
      "source": [
        "**Pivot을 이용한 데이터 재구성**\n",
        "\n",
        "+ Pivot은 일반적으로 열에서 새로운 데이터프레임을 생성하는 데 사용됩니다. pivot 함수를 사용하면 데이터를 재구성하여 원하는 형태로 만들 수 있습니다.\n",
        "+ 아래의 코드는 성별에 따른 요일별 평균 청구 금액을 보여주는 새로운 데이터프레임을 만듭니다."
      ],
      "metadata": {
        "id": "niR1rZyY3ck9"
      }
    },
    {
      "cell_type": "code",
      "source": [
        "# 'pivot'을 이용해 'sex'를 행으로, 'day'를 열로, 그리고 'total_bill'의 평균값을 값으로 갖는 데이터프레임을 생성합니다.\n",
        "pivoted_tips = tips.pivot_table(index='sex', columns='day', values='total_bill', aggfunc='mean')\n",
        "pivoted_tips"
      ],
      "metadata": {
        "id": "OA8-qjWB0MRb"
      },
      "execution_count": null,
      "outputs": []
    },
    {
      "cell_type": "markdown",
      "source": [
        "**데이터 정렬하기**\n",
        "\n",
        "+ 데이터를 정렬하면 분석이 더 쉬워집니다. sort_values 함수를 사용해 값을 기준으로 정할 수 있습니다.\n",
        "+ 아래의 코드를 실행하면 'total_bill' 열의 값에 따라 행이 오름차순으로 정렬됩니다."
      ],
      "metadata": {
        "id": "-GomBXmH4VjB"
      }
    },
    {
      "cell_type": "code",
      "source": [
        "# 'sort_values'를 이용해 'total_bill' 열을 기준으로 'tips' 데이터프레임을 정렬합니다.\n",
        "sorted_tips = tips.sort_values('total_bill')\n",
        "sorted_tips"
      ],
      "metadata": {
        "id": "xaS9cylK3wSp"
      },
      "execution_count": null,
      "outputs": []
    },
    {
      "cell_type": "markdown",
      "source": [
        "**인덱스 재설정하기**\n",
        "\n",
        "+ 데이터프레임의 인덱스를 재설정하려면 reset_index 함수를 사용할 수 있습니다.\n",
        "+ 아래의 코드를 실행하면 원래의 인덱스가 'index'라는 새로운 열로 이동하고, 행에 새로운 순차적인 인덱스가 부여됩니다."
      ],
      "metadata": {
        "id": "-L3ri7rY4gr4"
      }
    },
    {
      "cell_type": "code",
      "source": [
        "# 'reset_index'를 이용해 'tips' 데이터프레임의 인덱스를 재설정합니다.\n",
        "reset_tips = sorted_tips.reset_index()\n",
        "reset_tips"
      ],
      "metadata": {
        "id": "n3hXkRhQ3wQF"
      },
      "execution_count": null,
      "outputs": []
    },
    {
      "cell_type": "markdown",
      "source": [
        "**열 이름 변경하기**\n",
        "\n",
        "+ 열 이름을 변경하려면 rename 함수를 사용할 수 있습니다.\n",
        "+ 아래의 코드를 실행하면 'total_bill' 열이 'bill'로, 'tip' 열이 'gratuity'로 이름이 변경됩니다. 이런 식으로 열 이름을 이해하기 쉽게 바꿀 수 있습니다."
      ],
      "metadata": {
        "id": "79DbULfd4wSW"
      }
    },
    {
      "cell_type": "code",
      "source": [
        "# 'rename'을 이용해 'tips' 데이터프레임의 열 이름을 변경합니다.\n",
        "renamed_tips = tips.rename(columns={'total_bill': 'bill', 'tip': 'gratuity'})\n",
        "renamed_tips"
      ],
      "metadata": {
        "id": "KpXOHZq_3wOD"
      },
      "execution_count": null,
      "outputs": []
    },
    {
      "cell_type": "markdown",
      "source": [
        "**특정 열 제거하기**\n",
        "\n",
        "+ 데이터프레임에서 특정 열을 제거하려면 drop 함수를 사용할 수 있습니다.\n",
        "+ 아래의 코드를 실행하면 'total_bill' 열이 제거된 새로운 데이터프레임이 생성됩니다."
      ],
      "metadata": {
        "id": "boEH3PQp47Jt"
      }
    },
    {
      "cell_type": "code",
      "source": [
        "# 'drop'을 이용해 'total_bill' 열을 제거합니다.\n",
        "dropped_tips = tips.drop(columns=['total_bill'])\n",
        "dropped_tips"
      ],
      "metadata": {
        "id": "EgWSXgoI3wL3"
      },
      "execution_count": null,
      "outputs": []
    },
    {
      "cell_type": "markdown",
      "source": [
        "**서브셋(Subset): 부분집합**"
      ],
      "metadata": {
        "id": "ftBebfQh6VRQ"
      }
    },
    {
      "cell_type": "markdown",
      "source": [
        "**관찰치의 부분집합 (Subset Observations - Rows)**\n",
        "\n",
        "+ 데이터프레임에서 특정 조건을 만족하는 행을 선택하거나, 특정 방법으로 행을 샘플링하거나, 중복 행을 제거하는 등의 작업을 수행할 수 있습니다."
      ],
      "metadata": {
        "id": "IBnTSGsx6mfz"
      }
    },
    {
      "cell_type": "code",
      "source": [
        "# 데이터프레임의 처음 5개 행을 출력\n",
        "tips.head()"
      ],
      "metadata": {
        "id": "uXFUz2Z07BLk"
      },
      "execution_count": null,
      "outputs": []
    },
    {
      "cell_type": "code",
      "source": [
        "# 데이터프레임의 마지막 3개 행을 출력\n",
        "tips.tail(3)"
      ],
      "metadata": {
        "id": "jKsYA9TV7BI5"
      },
      "execution_count": null,
      "outputs": []
    },
    {
      "cell_type": "code",
      "source": [
        "# 조건에 따른 행 선택하기\n",
        "high_total_bill = tips[tips['total_bill'] > 10]  # 'total_bill'이 10보다 큰 행만 선택됩니다.\n",
        "high_total_bill"
      ],
      "metadata": {
        "id": "1eeEFWtC3wJZ"
      },
      "execution_count": null,
      "outputs": []
    },
    {
      "cell_type": "code",
      "source": [
        "# 중복 행 제거하기\n",
        "no_duplicates = tips.drop_duplicates()  # 중복된 행이 제거됩니다.\n",
        "no_duplicates"
      ],
      "metadata": {
        "id": "GJuzlCQu3wHG"
      },
      "execution_count": null,
      "outputs": []
    },
    {
      "cell_type": "code",
      "source": [
        "# 행 랜덤 샘플링하기\n",
        "random_sample = tips.sample(frac=0.5)  # 데이터프레임의 50%를 무작위로 선택합니다.\n",
        "random_sample"
      ],
      "metadata": {
        "id": "Mf1k9tpN3wEo"
      },
      "execution_count": null,
      "outputs": []
    },
    {
      "cell_type": "code",
      "source": [
        "# 상위 n 행 선택하기\n",
        "largest_bills = tips.nlargest(5, 'total_bill')  # 'total_bill' 값이 가장 큰 상위 5개의 행을 선택합니다.\n",
        "largest_bills"
      ],
      "metadata": {
        "id": "BMeo4eQ57LTr"
      },
      "execution_count": null,
      "outputs": []
    },
    {
      "cell_type": "code",
      "source": [
        "# 하위 n 행 선택하기\n",
        "smallest_bills = tips.nsmallest(5, 'total_bill')  # 'total_bill' 값이 가장 작은 하위 5개의 행을 선택합니다.\n",
        "smallest_bills"
      ],
      "metadata": {
        "id": "my_vfkMJ4dUV"
      },
      "execution_count": null,
      "outputs": []
    },
    {
      "cell_type": "markdown",
      "source": [
        "**변수의 부분집합 (Subset Variables - Columns)**\n",
        "\n",
        "+ 데이터프레임에서 특정 열을 선택하거나, 열의 이름을 기반으로 열을 필터링하는 등의 작업을 수행할 수 있습니다."
      ],
      "metadata": {
        "id": "9C-st-bY7T7y"
      }
    },
    {
      "cell_type": "code",
      "source": [
        "# 특정 열 선택하기\n",
        "selected_columns = tips[['total_bill', 'tip']]  #  'total_bill'과 'tip' 열만 선택됩니다.\n",
        "selected_columns"
      ],
      "metadata": {
        "id": "eDGXa2pi7LRN"
      },
      "execution_count": null,
      "outputs": []
    },
    {
      "cell_type": "code",
      "source": [
        "# 열 이름에 따른 열 필터링하기\n",
        "filtered_columns = tips.filter(regex='i')  # 열 이름에 'i'가 포함된 열만 선택됩니다.\n",
        "filtered_columns"
      ],
      "metadata": {
        "id": "L5_RHdTh7LPL"
      },
      "execution_count": null,
      "outputs": []
    },
    {
      "cell_type": "markdown",
      "source": [
        "**행과 열의 부분집합 (Subsets - rows and columns)**\n",
        "\n",
        "+ Pandas의 loc, iloc, at, 그리고 iat는 데이터프레임의 특정 부분집합을 선택하기 위한 기능을 제공합니다. loc와 iloc는 행과 열을 동시에 선택할 수 있고, at과 iat는 하나의 셀에 접근할 수 있습니다."
      ],
      "metadata": {
        "id": "S5467z1h7pgB"
      }
    },
    {
      "cell_type": "code",
      "source": [
        "# loc는 라벨 기반의 선택을 제공합니다.\n",
        "selected_loc = tips.loc[:, 'sex':'day']  # 'sex'부터 'day'까지의 열을 선택합니다.\n",
        "selected_loc"
      ],
      "metadata": {
        "id": "7-zkZmg87LNE"
      },
      "execution_count": null,
      "outputs": []
    },
    {
      "cell_type": "code",
      "source": [
        "tips.info()"
      ],
      "metadata": {
        "id": "rNMhlNIECYGa"
      },
      "execution_count": null,
      "outputs": []
    },
    {
      "cell_type": "code",
      "source": [
        "# iloc 인덱스 기반의 선택을 제공합니다.\n",
        "selected_iloc = tips.iloc[:, 0:4]  # 첫 번째부터 네 번째 열을 선택합니다.\n",
        "selected_iloc"
      ],
      "metadata": {
        "id": "fehSEMY27LK1"
      },
      "execution_count": null,
      "outputs": []
    },
    {
      "cell_type": "code",
      "source": [
        "# at은 라벨 기반의 선택을 제공합니다.\n",
        "value_at = tips.at[0, 'total_bill']  # 첫 번째 행의 'total_bill' 값을 출력합니다.\n",
        "print(\"Value using at: \", value_at)"
      ],
      "metadata": {
        "id": "21zfm-Y68ICg"
      },
      "execution_count": null,
      "outputs": []
    },
    {
      "cell_type": "code",
      "source": [
        "# iat은 인덱스 기반의 선택을 제공합니다.\n",
        "value_iat = tips.iat[0, 0]  # 첫 번째 행의 'total_bill' 값을 출력합니다.\n",
        "print(\"Value using iat: \", value_iat)"
      ],
      "metadata": {
        "id": "s4NGSUSB8H_9"
      },
      "execution_count": null,
      "outputs": []
    },
    {
      "cell_type": "markdown",
      "source": [
        "**query를 이용한 부분집합 선택**\n",
        "\n",
        "+ query 메소드를 사용하면 문자열을 사용하여 조건을 정의하고 해당하는 행을 선택할 수 있습니다. 아래의 코드를 실행하면 'total_bill'이 10보다 큰 행만 선택됩니다."
      ],
      "metadata": {
        "id": "Y1chUl_h8dgl"
      }
    },
    {
      "cell_type": "code",
      "source": [
        "high_total_bill = tips.query('total_bill > 10')\n",
        "high_total_bill"
      ],
      "metadata": {
        "id": "F02evBa38H9l"
      },
      "execution_count": null,
      "outputs": []
    },
    {
      "cell_type": "markdown",
      "source": [
        "**메서드 체이닝 (Method Chaining)**"
      ],
      "metadata": {
        "id": "hnUvtDfm8xqD"
      }
    },
    {
      "cell_type": "markdown",
      "source": [
        "Pandas는 메서드 체이닝이라는 기능을 제공합니다. 이를 통해 데이터를 처리하는 데 필요한 여러 단계를 한 줄의 코드로 연결하여 실행할 수 있습니다."
      ],
      "metadata": {
        "id": "IgX_QklF9Z_C"
      }
    },
    {
      "cell_type": "markdown",
      "source": [
        "\n",
        "아래 예제는 `tips` 데이터프레임을 활용하여 여러 단계의 데이터 처리를 메서드 체이닝으로 연결한 예제입니다. 각 단계에서 원하는 데이터 변환 및 처리를 수행하며, 최종 결과를 `result` 변수에 저장하여 출력합니다.\n",
        "\n",
        "1. `assign(total_per_person=tips['total_bill'] / tips['size'])`: `total_per_person` 열을 추가하고, `total_bill`을 `size`로 나눈 값으로 채웁니다.\n",
        "2. `query(\"sex == 'Female'\")`: `sex` 열이 'Female'인 행만 선택합니다.\n",
        "3. `rename(columns={'total_per_person': 'avg_total_per_person'})`: `total_per_person` 열의 이름을 `avg_total_per_person`으로 변경합니다.\n",
        "4. `sort_values(by='avg_total_per_person', ascending=False)`: `avg_total_per_person` 열을 기준으로 내림차순으로 정렬합니다.\n",
        "\n",
        "이런 식으로 메서드 체이닝을 활용하면 코드가 간결하고 가독성이 좋아지며, 데이터 처리 과정을 한눈에 파악할 수 있습니다.\n"
      ],
      "metadata": {
        "id": "FcUSlD82_9Vx"
      }
    },
    {
      "cell_type": "code",
      "source": [
        "# tips 데이터프레임을 활용하여 데이터 처리를 메서드 체이닝으로 연결합니다.\n",
        "result = tips\\\n",
        "    .assign(total_per_person=tips['total_bill'] / tips['size'])\\\n",
        "    .query(\"sex == 'Female'\")\\\n",
        "    .rename(columns={'total_per_person': 'avg_total_per_person'})\\\n",
        "    .sort_values(by='avg_total_per_person', ascending=False)\n",
        "\n",
        "result"
      ],
      "metadata": {
        "id": "I8-h8eZo_1mx"
      },
      "execution_count": null,
      "outputs": []
    },
    {
      "cell_type": "markdown",
      "source": [
        "**데이터 요약 (Summarize Data)**"
      ],
      "metadata": {
        "id": "LoKuqUxk82Xx"
      }
    },
    {
      "cell_type": "markdown",
      "source": [
        "데이터를 요약하여 통계 및 기초적인 분석을 수행할 수 있습니다. Pandas에서는 다양한 요약 함수를 제공합니다. 아래는 tips 데이터를 활용하여 각 요약 함수를 실습해볼 수 있는 예제입니다."
      ],
      "metadata": {
        "id": "IxdZQ0W0AxD2"
      }
    },
    {
      "cell_type": "code",
      "source": [
        "# 각 고유 값의 개수 세기\n",
        "value_counts = tips['sex'].value_counts()\n",
        "print(value_counts)"
      ],
      "metadata": {
        "id": "MracRQwN8H27"
      },
      "execution_count": null,
      "outputs": []
    },
    {
      "cell_type": "code",
      "source": [
        "# 데이터프레임의 행 개수 확인\n",
        "row_count = len(tips)\n",
        "print(row_count)"
      ],
      "metadata": {
        "id": "heoch29ZA1TC"
      },
      "execution_count": null,
      "outputs": []
    },
    {
      "cell_type": "code",
      "source": [
        "# 데이터프레임의 행과 열 개수 확인\n",
        "shape = tips.shape\n",
        "print(shape)"
      ],
      "metadata": {
        "id": "utBUHX8sA2VE"
      },
      "execution_count": null,
      "outputs": []
    },
    {
      "cell_type": "code",
      "source": [
        "# 열에서 고유한 값의 개수 확인\n",
        "nunique = tips['day'].nunique()\n",
        "print(nunique)"
      ],
      "metadata": {
        "id": "Km4j2CUjA_1I"
      },
      "execution_count": null,
      "outputs": []
    },
    {
      "cell_type": "code",
      "source": [
        "# 데이터프레임의 기술 통계 및 요약 통계 확인\n",
        "description = tips.describe()\n",
        "print(description)"
      ],
      "metadata": {
        "id": "j09RZI96A_Pp"
      },
      "execution_count": null,
      "outputs": []
    },
    {
      "cell_type": "code",
      "source": [
        "# 각 객체의 값의 합 계산\n",
        "sum_values = tips[['total_bill', 'tip', 'size']].sum()\n",
        "print(sum_values)"
      ],
      "metadata": {
        "id": "TQeAd6BHA-cZ"
      },
      "execution_count": null,
      "outputs": []
    },
    {
      "cell_type": "code",
      "source": [
        "# 각 객체의 비-NA/null 값의 개수 계산\n",
        "count_values = tips.count()\n",
        "print(count_values)"
      ],
      "metadata": {
        "id": "PW1c6dpcA9zH"
      },
      "execution_count": null,
      "outputs": []
    },
    {
      "cell_type": "code",
      "source": [
        "# 각 객체의 중간값 계산\n",
        "median_values = tips[['total_bill', 'tip', 'size']].median()\n",
        "print(median_values)"
      ],
      "metadata": {
        "id": "sU9Aa_MtA87Y"
      },
      "execution_count": null,
      "outputs": []
    },
    {
      "cell_type": "code",
      "source": [
        "# 각 객체의 사분위수 계산\n",
        "quantiles = tips[['total_bill', 'tip', 'size']].quantile([0.25, 0.75])\n",
        "print(quantiles)"
      ],
      "metadata": {
        "id": "iuzA2Y1TA8XE"
      },
      "execution_count": null,
      "outputs": []
    },
    {
      "cell_type": "code",
      "source": [
        "tips.info()"
      ],
      "metadata": {
        "id": "uIDbukHRDSqS"
      },
      "execution_count": null,
      "outputs": []
    },
    {
      "cell_type": "code",
      "source": [
        "# 함수 정의\n",
        "def custom_function(x):\n",
        "    return x.max() - x.min()\n",
        "\n",
        "# 카테고리형 열을 순서형으로 변환\n",
        "tips['sex'] = tips['sex'].astype('category').cat.as_ordered()\n",
        "\n",
        "# 함수 적용\n",
        "custom_result = tips.select_dtypes(include=['float64', 'int64']).apply(custom_function)\n",
        "print(custom_result)\n"
      ],
      "metadata": {
        "id": "KO3jTzYqA4dY"
      },
      "execution_count": null,
      "outputs": []
    },
    {
      "cell_type": "code",
      "source": [
        "# 각 객체의 최소값 계산\n",
        "min_values = tips[['total_bill', 'tip', 'size']].min()\n",
        "print(min_values)"
      ],
      "metadata": {
        "id": "eS831FfuA6eK"
      },
      "execution_count": null,
      "outputs": []
    },
    {
      "cell_type": "code",
      "source": [
        "# 각 객체의 최대값 계산\n",
        "max_values = tips[['total_bill', 'tip', 'size']].max()\n",
        "print(max_values)"
      ],
      "metadata": {
        "id": "IPNyd5rwBRmQ"
      },
      "execution_count": null,
      "outputs": []
    },
    {
      "cell_type": "code",
      "source": [
        "# 각 객체의 평균값 계산\n",
        "mean_values = tips[['total_bill', 'tip', 'size']].mean()\n",
        "print(mean_values)"
      ],
      "metadata": {
        "id": "MNGy7e3KA5Eg"
      },
      "execution_count": null,
      "outputs": []
    },
    {
      "cell_type": "code",
      "source": [
        "# 각 객체의 분산 계산\n",
        "var_values = tips[['total_bill', 'tip', 'size']].var()\n",
        "print(var_values)"
      ],
      "metadata": {
        "id": "sJHvozZbA3BO"
      },
      "execution_count": null,
      "outputs": []
    },
    {
      "cell_type": "code",
      "source": [
        "# 각 객체의 표준편차 계산\n",
        "std_values = tips[['total_bill', 'tip', 'size']].std()\n",
        "print(std_values)"
      ],
      "metadata": {
        "id": "RoEV3Xe0A3tR"
      },
      "execution_count": null,
      "outputs": []
    },
    {
      "cell_type": "markdown",
      "source": [
        "**결측치 다루기 (Handling Missing Data)**"
      ],
      "metadata": {
        "id": "Uh0OwXKj9BoL"
      }
    },
    {
      "cell_type": "markdown",
      "source": [
        "데이터에 결측치가 포함되어 있다면, 이를 처리하는 방법이 필요합니다. Pandas는 결측치를 처리하기 위한 다양한 메서드를 제공합니다. 예를 들어, 아래의 코드를 실행하면 각 열에서 결측치의 개수를 출력합니다."
      ],
      "metadata": {
        "id": "lkdsHIQ85ior"
      }
    },
    {
      "cell_type": "code",
      "source": [
        "missing_data = tips.isnull().sum()\n",
        "missing_data"
      ],
      "metadata": {
        "id": "sPewt4iAAy1x"
      },
      "execution_count": null,
      "outputs": []
    },
    {
      "cell_type": "markdown",
      "source": [
        "dropna() 메서드는 데이터프레임에서 NA 또는 null 값을 가진 행을 제거하는 데 사용됩니다."
      ],
      "metadata": {
        "id": "h6bxUAFS6Y71"
      }
    },
    {
      "cell_type": "code",
      "source": [
        "# 결측치가 포함된 행을 포함하는 데이터프레임\n",
        "df_with_na = tips.copy()\n",
        "df_with_na.loc[2, 'total_bill'] = None  # 결측치 삽입\n",
        "df_with_na.loc[4, 'tip'] = None  # 결측치 삽입\n",
        "\n",
        "# 결측치가 포함된 행을 제거한 데이터프레임\n",
        "df_dropped = df_with_na.dropna()\n",
        "\n",
        "# 결과 출력\n",
        "print(\"Original DataFrame:\")\n",
        "display(df_with_na)\n",
        "print(\"\\nDataFrame after dropping rows with NA values:\")\n",
        "display(df_dropped)"
      ],
      "metadata": {
        "id": "cwjZp_ZAAyzQ"
      },
      "execution_count": null,
      "outputs": []
    },
    {
      "cell_type": "markdown",
      "source": [
        "fillna() 메서드는 데이터프레임에서 NA 또는 null 값을 주어진 값으로 대체하는 데 사용됩니다."
      ],
      "metadata": {
        "id": "PVkM-AZ56fE6"
      }
    },
    {
      "cell_type": "code",
      "source": [
        "# 결측치를 0으로 대체한 데이터프레임\n",
        "df_filled = df_with_na.fillna(0)\n",
        "\n",
        "# 결과 출력\n",
        "print(\"Original DataFrame:\")\n",
        "display(df_with_na)\n",
        "print(\"\\nDataFrame after filling NA values with 0:\")\n",
        "display(df_filled)"
      ],
      "metadata": {
        "id": "zQ_PCMNOAywv"
      },
      "execution_count": null,
      "outputs": []
    },
    {
      "cell_type": "markdown",
      "source": [
        "**새로운 열 만들기 (Make New Columns)**"
      ],
      "metadata": {
        "id": "HOb1d8l89EuB"
      }
    },
    {
      "cell_type": "markdown",
      "source": [
        "Pandas를 사용하면 기존의 열을 기반으로 새로운 열을 생성할 수 있습니다. 예를 들어, 아래의 코드를 실행하면 tip을 total_bill로 나눈 값을 포함하는 새로운 열 'tip_percentage'를 생성합니다."
      ],
      "metadata": {
        "id": "_mUuZ62b5ncO"
      }
    },
    {
      "cell_type": "code",
      "source": [
        "tips['tip_percentage'] = tips['tip'] / tips['total_bill'] * 100\n",
        "tips"
      ],
      "metadata": {
        "id": "4XlRYtg39Bdj"
      },
      "execution_count": null,
      "outputs": []
    },
    {
      "cell_type": "markdown",
      "source": [
        "**데이터 그룹화 (Group Data)**"
      ],
      "metadata": {
        "id": "q2CLsqYI9Hm7"
      }
    },
    {
      "cell_type": "markdown",
      "source": [
        "데이터를 그룹화하면 특정 조건에 따라 데이터를 분류하고 분석할 수 있습니다. 아래의 코드를 실행하면 성별에 따른 tip의 평균을 계산합니다."
      ],
      "metadata": {
        "id": "XfBqtTML5qxi"
      }
    },
    {
      "cell_type": "code",
      "source": [
        "# 성별(sex)에 따른 평균 팁(tip) 계산\n",
        "gender_tip_mean = tips.groupby('sex')['tip'].mean()\n",
        "gender_tip_mean"
      ],
      "metadata": {
        "id": "OsHhHCxy9BbU"
      },
      "execution_count": null,
      "outputs": []
    },
    {
      "cell_type": "code",
      "source": [
        "# 흡연 여부(smoker)에 따른 최대 팁(tip) 계산\n",
        "smoker_tip_max = tips.groupby('smoker')['tip'].max()\n",
        "smoker_tip_max"
      ],
      "metadata": {
        "id": "98qy5UI775c_"
      },
      "execution_count": null,
      "outputs": []
    },
    {
      "cell_type": "code",
      "source": [
        "# 요일(day)과 시간(time)에 따른 평균 전체 금액(total_bill) 계산\n",
        "day_time_total_mean = tips.groupby(['day', 'time'])['total_bill'].mean()\n",
        "day_time_total_mean"
      ],
      "metadata": {
        "id": "3yYwmhoN76PU"
      },
      "execution_count": null,
      "outputs": []
    },
    {
      "cell_type": "code",
      "source": [
        "# 성별(sex)과 흡연 여부(smoker)에 따른 평균 인원수(size) 계산\n",
        "gender_smoker_size_mean = tips.groupby(['sex', 'smoker'])['size'].mean()\n",
        "gender_smoker_size_mean"
      ],
      "metadata": {
        "id": "xt3JjW9y77Ct"
      },
      "execution_count": null,
      "outputs": []
    },
    {
      "cell_type": "markdown",
      "source": [
        "**데이터 셋 결합 (Combine Data Sets)**"
      ],
      "metadata": {
        "id": "ZuevzOrS9Lsa"
      }
    },
    {
      "cell_type": "markdown",
      "source": [
        "두 개 이상의 데이터프레임을 결합할 때는 merge, join, concatenate 등의 메서드를 사용할 수 있습니다. 이들 메서드는 다양한 방식으로 데이터프레임을 결합할 수 있게 해줍니다."
      ],
      "metadata": {
        "id": "dUKrMelw5uby"
      }
    },
    {
      "cell_type": "code",
      "source": [
        "# 데이터프레임 생성\n",
        "adf = pd.DataFrame({'x1': ['A', 'B', 'C'], 'x2': [1, 2, 3]})\n",
        "bdf = pd.DataFrame({'x1': ['A', 'B', 'D'], 'x3': ['apple', 'banana', 'orange']})\n",
        "\n",
        "display(adf)\n",
        "display(bdf)"
      ],
      "metadata": {
        "id": "SF9N7dH19BUF"
      },
      "execution_count": null,
      "outputs": []
    },
    {
      "cell_type": "markdown",
      "source": [
        "**pd.merge()**"
      ],
      "metadata": {
        "id": "hqxmgvot9r2O"
      }
    },
    {
      "cell_type": "markdown",
      "source": [
        "1. how='left'인 경우:\n",
        "adf와 bdf의 x1 열을 기준으로 왼쪽 조인을 수행합니다. adf의 모든 행을 유지하고, x1 열 값이 일치하는 경우에만 bdf의 해당 행을 추가합니다."
      ],
      "metadata": {
        "id": "ZNXyRCjF9OzJ"
      }
    },
    {
      "cell_type": "code",
      "source": [
        "# 왼쪽 조인\n",
        "left_join = pd.merge(adf, bdf, how='left', on='x1')\n",
        "\n",
        "# 결과 출력\n",
        "left_join"
      ],
      "metadata": {
        "id": "4k9whJhQ8u63"
      },
      "execution_count": null,
      "outputs": []
    },
    {
      "cell_type": "markdown",
      "source": [
        "2. how='right'인 경우:\n",
        "adf와 bdf의 x1 열을 기준으로 오른쪽 조인을 수행합니다. bdf의 모든 행을 유지하고, x1 열 값이 일치하는 경우에만 adf의 해당 행을 추가합니다."
      ],
      "metadata": {
        "id": "F_T2prHp81N0"
      }
    },
    {
      "cell_type": "code",
      "source": [
        "# 오른쪽 조인\n",
        "right_join = pd.merge(adf, bdf, how='right', on='x1')\n",
        "\n",
        "# 결과 출력\n",
        "right_join"
      ],
      "metadata": {
        "id": "0-AE5UNv9BRv"
      },
      "execution_count": null,
      "outputs": []
    },
    {
      "cell_type": "markdown",
      "source": [
        "3. how='inner'인 경우:\n",
        "adf와 bdf의 x1 열을 기준으로 내부 조인을 수행합니다. 양쪽 데이터프레임에서 x1 열 값이 일치하는 행만을 유지합니다."
      ],
      "metadata": {
        "id": "niMX12k49Emf"
      }
    },
    {
      "cell_type": "code",
      "source": [
        "# 내부 조인\n",
        "inner_join = pd.merge(adf, bdf, how='inner', on='x1')\n",
        "\n",
        "# 결과 출력\n",
        "inner_join"
      ],
      "metadata": {
        "id": "aNQfv8743wCm"
      },
      "execution_count": null,
      "outputs": []
    },
    {
      "cell_type": "markdown",
      "source": [
        "4. how='outer'인 경우:\n",
        "adf와 bdf의 x1 열을 기준으로 외부 조인을 수행합니다. 양쪽 데이터프레임에서 x1 열 값이 일치하는 경우는 해당 행을 유지하고, 일치하지 않는 경우에는 누락된 값(NaN)으로 채웁니다."
      ],
      "metadata": {
        "id": "TXrSaIdh9SbL"
      }
    },
    {
      "cell_type": "code",
      "source": [
        "# 외부 조인\n",
        "outer_join = pd.merge(adf, bdf, how='outer', on='x1')\n",
        "\n",
        "# 결과 출력\n",
        "outer_join"
      ],
      "metadata": {
        "id": "_gGwjLgKAysQ"
      },
      "execution_count": null,
      "outputs": []
    },
    {
      "cell_type": "markdown",
      "source": [
        "**pd.concat()**"
      ],
      "metadata": {
        "id": "QdW6ytli9xZH"
      }
    },
    {
      "cell_type": "code",
      "source": [
        "concatenated_df = pd.concat([adf, bdf], axis=0)\n",
        "concatenated_df"
      ],
      "metadata": {
        "id": "bR3cJdqr0MOo"
      },
      "execution_count": null,
      "outputs": []
    },
    {
      "cell_type": "code",
      "source": [
        "concatenated_df_axis = pd.concat([adf, bdf], axis=1)\n",
        "concatenated_df_axis"
      ],
      "metadata": {
        "id": "OHJiKhy1AyoB"
      },
      "execution_count": null,
      "outputs": []
    },
    {
      "cell_type": "markdown",
      "source": [
        "## [Quiz #4.](https://forms.gle/vXgbuSpMuYH6e2SPA)"
      ],
      "metadata": {
        "id": "FE7veMurvtlA"
      }
    },
    {
      "cell_type": "markdown",
      "source": [
        "# **Q&A**"
      ],
      "metadata": {
        "id": "iUhVBdU5z9dX"
      }
    }
  ]
}